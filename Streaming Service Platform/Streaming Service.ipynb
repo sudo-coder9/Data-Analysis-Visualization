{
 "cells": [
  {
   "cell_type": "code",
   "execution_count": 40,
   "metadata": {},
   "outputs": [],
   "source": [
    "import numpy as np\n",
    "import pandas as pd\n",
    "\n",
    "import plotly\n",
    "import plotly.express as px\n",
    "from plotly.subplots import make_subplots\n",
    "import seaborn as sns\n",
    "import matplotlib.pyplot as plt"
   ]
  },
  {
   "cell_type": "code",
   "execution_count": 41,
   "metadata": {},
   "outputs": [
    {
     "data": {
      "text/html": [
       "<div>\n",
       "<style scoped>\n",
       "    .dataframe tbody tr th:only-of-type {\n",
       "        vertical-align: middle;\n",
       "    }\n",
       "\n",
       "    .dataframe tbody tr th {\n",
       "        vertical-align: top;\n",
       "    }\n",
       "\n",
       "    .dataframe thead th {\n",
       "        text-align: right;\n",
       "    }\n",
       "</style>\n",
       "<table border=\"1\" class=\"dataframe\">\n",
       "  <thead>\n",
       "    <tr style=\"text-align: right;\">\n",
       "      <th></th>\n",
       "      <th>Unnamed: 0</th>\n",
       "      <th>Title</th>\n",
       "      <th>Year</th>\n",
       "      <th>Age</th>\n",
       "      <th>IMDb</th>\n",
       "      <th>Rotten Tomatoes</th>\n",
       "      <th>Netflix</th>\n",
       "      <th>Hulu</th>\n",
       "      <th>Prime Video</th>\n",
       "      <th>Disney+</th>\n",
       "      <th>type</th>\n",
       "    </tr>\n",
       "  </thead>\n",
       "  <tbody>\n",
       "    <tr>\n",
       "      <th>0</th>\n",
       "      <td>0</td>\n",
       "      <td>Breaking Bad</td>\n",
       "      <td>2008</td>\n",
       "      <td>18+</td>\n",
       "      <td>9.5</td>\n",
       "      <td>96%</td>\n",
       "      <td>1</td>\n",
       "      <td>0</td>\n",
       "      <td>0</td>\n",
       "      <td>0</td>\n",
       "      <td>1</td>\n",
       "    </tr>\n",
       "    <tr>\n",
       "      <th>1</th>\n",
       "      <td>1</td>\n",
       "      <td>Stranger Things</td>\n",
       "      <td>2016</td>\n",
       "      <td>16+</td>\n",
       "      <td>8.8</td>\n",
       "      <td>93%</td>\n",
       "      <td>1</td>\n",
       "      <td>0</td>\n",
       "      <td>0</td>\n",
       "      <td>0</td>\n",
       "      <td>1</td>\n",
       "    </tr>\n",
       "    <tr>\n",
       "      <th>2</th>\n",
       "      <td>2</td>\n",
       "      <td>Money Heist</td>\n",
       "      <td>2017</td>\n",
       "      <td>18+</td>\n",
       "      <td>8.4</td>\n",
       "      <td>91%</td>\n",
       "      <td>1</td>\n",
       "      <td>0</td>\n",
       "      <td>0</td>\n",
       "      <td>0</td>\n",
       "      <td>1</td>\n",
       "    </tr>\n",
       "    <tr>\n",
       "      <th>3</th>\n",
       "      <td>3</td>\n",
       "      <td>Sherlock</td>\n",
       "      <td>2010</td>\n",
       "      <td>16+</td>\n",
       "      <td>9.1</td>\n",
       "      <td>78%</td>\n",
       "      <td>1</td>\n",
       "      <td>0</td>\n",
       "      <td>0</td>\n",
       "      <td>0</td>\n",
       "      <td>1</td>\n",
       "    </tr>\n",
       "    <tr>\n",
       "      <th>4</th>\n",
       "      <td>4</td>\n",
       "      <td>Better Call Saul</td>\n",
       "      <td>2015</td>\n",
       "      <td>18+</td>\n",
       "      <td>8.7</td>\n",
       "      <td>97%</td>\n",
       "      <td>1</td>\n",
       "      <td>0</td>\n",
       "      <td>0</td>\n",
       "      <td>0</td>\n",
       "      <td>1</td>\n",
       "    </tr>\n",
       "  </tbody>\n",
       "</table>\n",
       "</div>"
      ],
      "text/plain": [
       "   Unnamed: 0             Title  Year  Age  IMDb Rotten Tomatoes  Netflix  \\\n",
       "0           0      Breaking Bad  2008  18+   9.5             96%        1   \n",
       "1           1   Stranger Things  2016  16+   8.8             93%        1   \n",
       "2           2       Money Heist  2017  18+   8.4             91%        1   \n",
       "3           3          Sherlock  2010  16+   9.1             78%        1   \n",
       "4           4  Better Call Saul  2015  18+   8.7             97%        1   \n",
       "\n",
       "   Hulu  Prime Video  Disney+  type  \n",
       "0     0            0        0     1  \n",
       "1     0            0        0     1  \n",
       "2     0            0        0     1  \n",
       "3     0            0        0     1  \n",
       "4     0            0        0     1  "
      ]
     },
     "execution_count": 41,
     "metadata": {},
     "output_type": "execute_result"
    }
   ],
   "source": [
    "tv_shows = pd.read_csv(\"tv_shows.csv\")\n",
    "tv_shows.head()"
   ]
  },
  {
   "cell_type": "code",
   "execution_count": 42,
   "metadata": {},
   "outputs": [],
   "source": [
    "tv_shows.drop_duplicates(subset = 'Title', keep='first', inplace = True)"
   ]
  },
  {
   "cell_type": "code",
   "execution_count": 43,
   "metadata": {
    "scrolled": true
   },
   "outputs": [
    {
     "data": {
      "text/html": [
       "<div>\n",
       "<style scoped>\n",
       "    .dataframe tbody tr th:only-of-type {\n",
       "        vertical-align: middle;\n",
       "    }\n",
       "\n",
       "    .dataframe tbody tr th {\n",
       "        vertical-align: top;\n",
       "    }\n",
       "\n",
       "    .dataframe thead th {\n",
       "        text-align: right;\n",
       "    }\n",
       "</style>\n",
       "<table border=\"1\" class=\"dataframe\">\n",
       "  <thead>\n",
       "    <tr style=\"text-align: right;\">\n",
       "      <th></th>\n",
       "      <th>Unnamed: 0</th>\n",
       "      <th>Title</th>\n",
       "      <th>Year</th>\n",
       "      <th>Age</th>\n",
       "      <th>IMDb</th>\n",
       "      <th>Rotten Tomatoes</th>\n",
       "      <th>Netflix</th>\n",
       "      <th>Hulu</th>\n",
       "      <th>Prime Video</th>\n",
       "      <th>Disney+</th>\n",
       "      <th>type</th>\n",
       "    </tr>\n",
       "  </thead>\n",
       "  <tbody>\n",
       "    <tr>\n",
       "      <th>0</th>\n",
       "      <td>0</td>\n",
       "      <td>Breaking Bad</td>\n",
       "      <td>2008</td>\n",
       "      <td>18+</td>\n",
       "      <td>9.5</td>\n",
       "      <td>96%</td>\n",
       "      <td>1</td>\n",
       "      <td>0</td>\n",
       "      <td>0</td>\n",
       "      <td>0</td>\n",
       "      <td>1</td>\n",
       "    </tr>\n",
       "    <tr>\n",
       "      <th>1</th>\n",
       "      <td>1</td>\n",
       "      <td>Stranger Things</td>\n",
       "      <td>2016</td>\n",
       "      <td>16+</td>\n",
       "      <td>8.8</td>\n",
       "      <td>93%</td>\n",
       "      <td>1</td>\n",
       "      <td>0</td>\n",
       "      <td>0</td>\n",
       "      <td>0</td>\n",
       "      <td>1</td>\n",
       "    </tr>\n",
       "    <tr>\n",
       "      <th>2</th>\n",
       "      <td>2</td>\n",
       "      <td>Money Heist</td>\n",
       "      <td>2017</td>\n",
       "      <td>18+</td>\n",
       "      <td>8.4</td>\n",
       "      <td>91%</td>\n",
       "      <td>1</td>\n",
       "      <td>0</td>\n",
       "      <td>0</td>\n",
       "      <td>0</td>\n",
       "      <td>1</td>\n",
       "    </tr>\n",
       "    <tr>\n",
       "      <th>3</th>\n",
       "      <td>3</td>\n",
       "      <td>Sherlock</td>\n",
       "      <td>2010</td>\n",
       "      <td>16+</td>\n",
       "      <td>9.1</td>\n",
       "      <td>78%</td>\n",
       "      <td>1</td>\n",
       "      <td>0</td>\n",
       "      <td>0</td>\n",
       "      <td>0</td>\n",
       "      <td>1</td>\n",
       "    </tr>\n",
       "    <tr>\n",
       "      <th>4</th>\n",
       "      <td>4</td>\n",
       "      <td>Better Call Saul</td>\n",
       "      <td>2015</td>\n",
       "      <td>18+</td>\n",
       "      <td>8.7</td>\n",
       "      <td>97%</td>\n",
       "      <td>1</td>\n",
       "      <td>0</td>\n",
       "      <td>0</td>\n",
       "      <td>0</td>\n",
       "      <td>1</td>\n",
       "    </tr>\n",
       "  </tbody>\n",
       "</table>\n",
       "</div>"
      ],
      "text/plain": [
       "   Unnamed: 0             Title  Year  Age  IMDb Rotten Tomatoes  Netflix  \\\n",
       "0           0      Breaking Bad  2008  18+   9.5             96%        1   \n",
       "1           1   Stranger Things  2016  16+   8.8             93%        1   \n",
       "2           2       Money Heist  2017  18+   8.4             91%        1   \n",
       "3           3          Sherlock  2010  16+   9.1             78%        1   \n",
       "4           4  Better Call Saul  2015  18+   8.7             97%        1   \n",
       "\n",
       "   Hulu  Prime Video  Disney+  type  \n",
       "0     0            0        0     1  \n",
       "1     0            0        0     1  \n",
       "2     0            0        0     1  \n",
       "3     0            0        0     1  \n",
       "4     0            0        0     1  "
      ]
     },
     "execution_count": 43,
     "metadata": {},
     "output_type": "execute_result"
    }
   ],
   "source": [
    "tv_shows.head()"
   ]
  },
  {
   "cell_type": "code",
   "execution_count": 44,
   "metadata": {},
   "outputs": [],
   "source": [
    "tv_shows['Rotten Tomatoes'] = tv_shows['Rotten Tomatoes'].fillna('0%')\n",
    "tv_shows['Rotten Tomatoes'] = tv_shows['Rotten Tomatoes'].apply(lambda x: x.strip('%'))\n",
    "tv_shows['Rotten Tomatoes'] = pd.to_numeric(tv_shows['Rotten Tomatoes'])\n",
    "\n",
    "tv_shows['IMDb'] = tv_shows['IMDb'].fillna(0)\n",
    "tv_shows['IMDb'] = tv_shows['IMDb']*10\n",
    "tv_shows['IMDb'] = tv_shows['IMDb'].astype('int')"
   ]
  },
  {
   "cell_type": "code",
   "execution_count": 49,
   "metadata": {},
   "outputs": [],
   "source": [
    "tv_shows_long = pd.melt(tv_shows[['Title','Netflix','Hulu','Disney+','Prime Video']],id_vars = ['Title'],var_name = 'Streaming On',value_name = 'Present')\n",
    "tv_shows_long = tv_shows_long[tv_shows_long['Present'] == 1]\n",
    "tv_shows_long.drop(columns = ['Present'],inplace = True)"
   ]
  },
  {
   "cell_type": "code",
   "execution_count": 50,
   "metadata": {},
   "outputs": [],
   "source": [
    "tv_shows_combined = tv_shows_long.merge(tv_shows, on='Title', how='inner')\n",
    "tv_shows_combined.drop(columns = ['Unnamed: 0','Netflix','Hulu', 'Prime Video', 'Disney+', 'type'], inplace=True)"
   ]
  },
  {
   "cell_type": "code",
   "execution_count": 51,
   "metadata": {
    "scrolled": true
   },
   "outputs": [
    {
     "data": {
      "text/plain": [
       "<AxesSubplot:xlabel='Streaming On'>"
      ]
     },
     "execution_count": 51,
     "metadata": {},
     "output_type": "execute_result"
    },
    {
     "data": {
      "image/png": "[encoded data removed]",
      "text/plain": [
       "<Figure size 432x288 with 1 Axes>"
      ]
     },
     "metadata": {
      "needs_background": "light"
     },
     "output_type": "display_data"
    }
   ],
   "source": [
    "tv_shows_both_ratings = tv_shows_combined[(tv_shows_combined.IMDb > 0) & tv_shows_combined['Rotten Tomatoes'] > 0]\n",
    "tv_shows_combined.groupby('Streaming On').Title.count().plot(kind='bar')"
   ]
  },
  {
   "cell_type": "code",
   "execution_count": 52,
   "metadata": {},
   "outputs": [
    {
     "data": {
      "application/vnd.plotly.v1+json": {
       "config": {
        "plotlyServerURL": "https://plot.ly"
       },
       "data": [
        {
         "alignmentgroup": "True",
         "box": {
          "visible": false
         },
         "hovertemplate": "Streaming On=%{x}<br>IMDb=%{y}<extra></extra>",
         "legendgroup": "Netflix",
         "marker": {
          "color": "#636efa"
         },
         "name": "Netflix",
         "offsetgroup": "Netflix",
         "orientation": "v",
         "scalegroup": "True",
         "showlegend": true,
         "type": "violin",
         "x": [
          "Netflix",
          "Netflix",
          "Netflix",
          "Netflix",
          "Netflix",
          "Netflix",
          "Netflix",
          "Netflix",
          "Netflix",
          "Netflix",
          "Netflix",
          "Netflix",
          "Netflix",
          "Netflix",
          "Netflix",
          "Netflix",
          "Netflix",
          "Netflix",
          "Netflix",
          "Netflix",
          "Netflix",
          "Netflix",
          "Netflix",
          "Netflix",
          "Netflix",
          "Netflix",
          "Netflix",
          "Netflix",
          "Netflix",
          "Netflix",
          "Netflix",
          "Netflix",
          "Netflix",
          "Netflix",
          "Netflix",
          "Netflix",
          "Netflix",
          "Netflix",
          "Netflix",
          "Netflix",
          "Netflix",
          "Netflix",
          "Netflix",
          "Netflix",
          "Netflix",
          "Netflix",
          "Netflix",
          "Netflix",
          "Netflix",
          "Netflix",
          "Netflix",
          "Netflix",
          "Netflix",
          "Netflix",
          "Netflix",
          "Netflix",
          "Netflix",
          "Netflix",
          "Netflix",
          "Netflix",
          "Netflix",
          "Netflix",
          "Netflix",
          "Netflix",
          "Netflix",
          "Netflix",
          "Netflix",
          "Netflix",
          "Netflix",
          "Netflix",
          "Netflix",
          "Netflix",
          "Netflix",
          "Netflix",
          "Netflix",
          "Netflix",
          "Netflix",
          "Netflix",
          "Netflix",
          "Netflix",
          "Netflix",
          "Netflix",
          "Netflix",
          "Netflix",
          "Netflix",
          "Netflix",
          "Netflix",
          "Netflix",
          "Netflix",
          "Netflix",
          "Netflix",
          "Netflix",
          "Netflix",
          "Netflix",
          "Netflix",
          "Netflix",
          "Netflix",
          "Netflix",
          "Netflix",
          "Netflix",
          "Netflix",
          "Netflix",
          "Netflix",
          "Netflix",
          "Netflix",
          "Netflix",
          "Netflix",
          "Netflix",
          "Netflix",
          "Netflix",
          "Netflix",
          "Netflix",
          "Netflix",
          "Netflix",
          "Netflix",
          "Netflix",
          "Netflix",
          "Netflix",
          "Netflix",
          "Netflix",
          "Netflix",
          "Netflix",
          "Netflix",
          "Netflix",
          "Netflix",
          "Netflix",
          "Netflix",
          "Netflix",
          "Netflix",
          "Netflix",
          "Netflix",
          "Netflix",
          "Netflix",
          "Netflix",
          "Netflix",
          "Netflix",
          "Netflix",
          "Netflix",
          "Netflix",
          "Netflix",
          "Netflix",
          "Netflix",
          "Netflix",
          "Netflix",
          "Netflix",
          "Netflix",
          "Netflix",
          "Netflix",
          "Netflix",
          "Netflix",
          "Netflix",
          "Netflix",
          "Netflix",
          "Netflix",
          "Netflix",
          "Netflix",
          "Netflix",
          "Netflix",
          "Netflix",
          "Netflix",
          "Netflix",
          "Netflix",
          "Netflix",
          "Netflix",
          "Netflix",
          "Netflix",
          "Netflix",
          "Netflix",
          "Netflix",
          "Netflix",
          "Netflix",
          "Netflix",
          "Netflix",
          "Netflix",
          "Netflix",
          "Netflix",
          "Netflix",
          "Netflix",
          "Netflix",
          "Netflix",
          "Netflix",
          "Netflix",
          "Netflix",
          "Netflix",
          "Netflix",
          "Netflix",
          "Netflix",
          "Netflix",
          "Netflix",
          "Netflix",
          "Netflix",
          "Netflix",
          "Netflix",
          "Netflix",
          "Netflix"
         ],
         "x0": " ",
         "xaxis": "x",
         "y": [
          88,
          84,
          87,
          89,
          88,
          84,
          82,
          84,
          88,
          86,
          83,
          88,
          84,
          86,
          82,
          87,
          80,
          77,
          84,
          82,
          76,
          81,
          87,
          77,
          87,
          76,
          87,
          80,
          82,
          81,
          84,
          81,
          74,
          84,
          76,
          85,
          78,
          86,
          80,
          80,
          79,
          85,
          84,
          81,
          88,
          82,
          83,
          82,
          93,
          78,
          76,
          79,
          77,
          81,
          79,
          80,
          83,
          80,
          78,
          83,
          73,
          77,
          82,
          68,
          81,
          71,
          74,
          78,
          82,
          78,
          78,
          85,
          83,
          73,
          77,
          84,
          75,
          81,
          81,
          73,
          84,
          72,
          83,
          73,
          79,
          80,
          85,
          75,
          79,
          78,
          77,
          72,
          84,
          82,
          75,
          85,
          77,
          81,
          81,
          77,
          74,
          81,
          82,
          77,
          84,
          79,
          67,
          68,
          73,
          65,
          80,
          75,
          83,
          78,
          71,
          70,
          73,
          73,
          75,
          74,
          76,
          72,
          75,
          70,
          77,
          77,
          74,
          61,
          85,
          75,
          60,
          74,
          66,
          66,
          76,
          74,
          79,
          80,
          64,
          71,
          64,
          79,
          79,
          76,
          76,
          62,
          76,
          71,
          61,
          72,
          74,
          65,
          63,
          74,
          74,
          65,
          61,
          75,
          64,
          82,
          72,
          70,
          59,
          74,
          67,
          74,
          66,
          73,
          73,
          70,
          65,
          76,
          72,
          65,
          70,
          67,
          66,
          73,
          60,
          63,
          58,
          38,
          68,
          65,
          71,
          70,
          77,
          69,
          36,
          61,
          64,
          52,
          57,
          23,
          58
         ],
         "y0": " ",
         "yaxis": "y"
        },
        {
         "alignmentgroup": "True",
         "box": {
          "visible": false
         },
         "hovertemplate": "Streaming On=%{x}<br>IMDb=%{y}<extra></extra>",
         "legendgroup": "Hulu",
         "marker": {
          "color": "#EF553B"
         },
         "name": "Hulu",
         "offsetgroup": "Hulu",
         "orientation": "v",
         "scalegroup": "True",
         "showlegend": true,
         "type": "violin",
         "x": [
          "Hulu",
          "Hulu",
          "Hulu",
          "Hulu",
          "Hulu",
          "Hulu",
          "Hulu",
          "Hulu",
          "Hulu",
          "Hulu",
          "Hulu",
          "Hulu",
          "Hulu",
          "Hulu",
          "Hulu",
          "Hulu",
          "Hulu",
          "Hulu",
          "Hulu",
          "Hulu",
          "Hulu",
          "Hulu",
          "Hulu",
          "Hulu",
          "Hulu",
          "Hulu",
          "Hulu",
          "Hulu",
          "Hulu",
          "Hulu",
          "Hulu",
          "Hulu",
          "Hulu",
          "Hulu",
          "Hulu",
          "Hulu",
          "Hulu",
          "Hulu",
          "Hulu",
          "Hulu",
          "Hulu",
          "Hulu",
          "Hulu",
          "Hulu",
          "Hulu",
          "Hulu",
          "Hulu",
          "Hulu",
          "Hulu",
          "Hulu",
          "Hulu",
          "Hulu",
          "Hulu",
          "Hulu",
          "Hulu",
          "Hulu",
          "Hulu",
          "Hulu",
          "Hulu",
          "Hulu",
          "Hulu",
          "Hulu",
          "Hulu",
          "Hulu",
          "Hulu",
          "Hulu",
          "Hulu",
          "Hulu",
          "Hulu",
          "Hulu",
          "Hulu",
          "Hulu",
          "Hulu",
          "Hulu",
          "Hulu",
          "Hulu",
          "Hulu",
          "Hulu",
          "Hulu",
          "Hulu",
          "Hulu",
          "Hulu",
          "Hulu",
          "Hulu",
          "Hulu",
          "Hulu",
          "Hulu",
          "Hulu",
          "Hulu",
          "Hulu",
          "Hulu",
          "Hulu",
          "Hulu",
          "Hulu",
          "Hulu",
          "Hulu",
          "Hulu",
          "Hulu",
          "Hulu",
          "Hulu",
          "Hulu",
          "Hulu",
          "Hulu",
          "Hulu",
          "Hulu",
          "Hulu",
          "Hulu",
          "Hulu",
          "Hulu",
          "Hulu",
          "Hulu",
          "Hulu",
          "Hulu",
          "Hulu",
          "Hulu",
          "Hulu",
          "Hulu",
          "Hulu",
          "Hulu",
          "Hulu",
          "Hulu",
          "Hulu",
          "Hulu",
          "Hulu",
          "Hulu",
          "Hulu",
          "Hulu",
          "Hulu",
          "Hulu",
          "Hulu",
          "Hulu",
          "Hulu",
          "Hulu",
          "Hulu",
          "Hulu",
          "Hulu",
          "Hulu",
          "Hulu",
          "Hulu",
          "Hulu",
          "Hulu",
          "Hulu",
          "Hulu",
          "Hulu",
          "Hulu",
          "Hulu",
          "Hulu",
          "Hulu",
          "Hulu",
          "Hulu",
          "Hulu",
          "Hulu",
          "Hulu",
          "Hulu",
          "Hulu",
          "Hulu",
          "Hulu",
          "Hulu",
          "Hulu",
          "Hulu",
          "Hulu",
          "Hulu",
          "Hulu",
          "Hulu",
          "Hulu",
          "Hulu",
          "Hulu",
          "Hulu",
          "Hulu",
          "Hulu"
         ],
         "x0": " ",
         "xaxis": "x2",
         "y": [
          86,
          88,
          82,
          76,
          87,
          81,
          74,
          86,
          79,
          78,
          66,
          60,
          85,
          84,
          87,
          83,
          90,
          87,
          83,
          84,
          86,
          84,
          86,
          86,
          83,
          86,
          87,
          81,
          82,
          83,
          79,
          86,
          88,
          77,
          80,
          86,
          82,
          80,
          80,
          85,
          78,
          75,
          78,
          78,
          83,
          84,
          81,
          88,
          77,
          76,
          81,
          75,
          74,
          80,
          78,
          73,
          82,
          70,
          77,
          80,
          84,
          81,
          81,
          76,
          77,
          69,
          80,
          82,
          74,
          79,
          74,
          83,
          80,
          83,
          73,
          72,
          76,
          65,
          71,
          67,
          78,
          74,
          83,
          80,
          73,
          69,
          71,
          79,
          80,
          76,
          82,
          75,
          78,
          79,
          77,
          68,
          84,
          79,
          67,
          79,
          71,
          77,
          75,
          78,
          74,
          73,
          75,
          70,
          75,
          73,
          73,
          77,
          67,
          76,
          70,
          81,
          72,
          69,
          73,
          75,
          77,
          76,
          70,
          70,
          74,
          67,
          74,
          70,
          53,
          73,
          71,
          76,
          62,
          62,
          75,
          74,
          81,
          79,
          77,
          62,
          74,
          56,
          67,
          67,
          59,
          62,
          49,
          69,
          77,
          41,
          59,
          76,
          64,
          62,
          72,
          70,
          57,
          79,
          66,
          70,
          67,
          56,
          57,
          74,
          43,
          63,
          66,
          64,
          73,
          42
         ],
         "y0": " ",
         "yaxis": "y2"
        },
        {
         "alignmentgroup": "True",
         "box": {
          "visible": false
         },
         "hovertemplate": "Streaming On=%{x}<br>IMDb=%{y}<extra></extra>",
         "legendgroup": "Prime Video",
         "marker": {
          "color": "#00cc96"
         },
         "name": "Prime Video",
         "offsetgroup": "Prime Video",
         "orientation": "v",
         "scalegroup": "True",
         "showlegend": true,
         "type": "violin",
         "x": [
          "Prime Video",
          "Prime Video",
          "Prime Video",
          "Prime Video",
          "Prime Video",
          "Prime Video",
          "Prime Video",
          "Prime Video",
          "Prime Video",
          "Prime Video",
          "Prime Video",
          "Prime Video",
          "Prime Video",
          "Prime Video",
          "Prime Video",
          "Prime Video",
          "Prime Video",
          "Prime Video",
          "Prime Video",
          "Prime Video",
          "Prime Video",
          "Prime Video",
          "Prime Video",
          "Prime Video",
          "Prime Video",
          "Prime Video",
          "Prime Video",
          "Prime Video",
          "Prime Video",
          "Prime Video",
          "Prime Video",
          "Prime Video",
          "Prime Video",
          "Prime Video",
          "Prime Video",
          "Prime Video",
          "Prime Video",
          "Prime Video",
          "Prime Video",
          "Prime Video",
          "Prime Video",
          "Prime Video",
          "Prime Video",
          "Prime Video",
          "Prime Video",
          "Prime Video",
          "Prime Video",
          "Prime Video",
          "Prime Video",
          "Prime Video",
          "Prime Video",
          "Prime Video",
          "Prime Video",
          "Prime Video",
          "Prime Video",
          "Prime Video",
          "Prime Video",
          "Prime Video",
          "Prime Video",
          "Prime Video",
          "Prime Video",
          "Prime Video",
          "Prime Video",
          "Prime Video",
          "Prime Video",
          "Prime Video",
          "Prime Video",
          "Prime Video",
          "Prime Video",
          "Prime Video",
          "Prime Video",
          "Prime Video",
          "Prime Video",
          "Prime Video",
          "Prime Video",
          "Prime Video",
          "Prime Video",
          "Prime Video",
          "Prime Video",
          "Prime Video",
          "Prime Video",
          "Prime Video",
          "Prime Video",
          "Prime Video",
          "Prime Video",
          "Prime Video",
          "Prime Video",
          "Prime Video",
          "Prime Video",
          "Prime Video",
          "Prime Video",
          "Prime Video",
          "Prime Video",
          "Prime Video",
          "Prime Video",
          "Prime Video",
          "Prime Video",
          "Prime Video",
          "Prime Video"
         ],
         "x0": " ",
         "xaxis": "x3",
         "y": [
          86,
          86,
          83,
          78,
          84,
          70,
          64,
          85,
          82,
          85,
          75,
          81,
          69,
          80,
          76,
          85,
          84,
          87,
          83,
          87,
          82,
          82,
          83,
          83,
          84,
          87,
          81,
          76,
          83,
          78,
          81,
          86,
          83,
          87,
          82,
          79,
          82,
          86,
          83,
          73,
          85,
          71,
          82,
          80,
          80,
          81,
          75,
          81,
          70,
          79,
          74,
          79,
          74,
          81,
          77,
          82,
          73,
          78,
          66,
          71,
          75,
          64,
          73,
          74,
          79,
          69,
          75,
          79,
          82,
          75,
          74,
          69,
          79,
          72,
          73,
          72,
          74,
          77,
          69,
          61,
          67,
          70,
          85,
          61,
          62,
          64,
          66,
          62,
          67,
          63,
          66,
          64,
          59,
          66,
          75,
          72,
          38,
          48,
          61
         ],
         "y0": " ",
         "yaxis": "y3"
        },
        {
         "alignmentgroup": "True",
         "box": {
          "visible": false
         },
         "hovertemplate": "Streaming On=%{x}<br>IMDb=%{y}<extra></extra>",
         "legendgroup": "Disney+",
         "marker": {
          "color": "#ab63fa"
         },
         "name": "Disney+",
         "offsetgroup": "Disney+",
         "orientation": "v",
         "scalegroup": "True",
         "showlegend": true,
         "type": "violin",
         "x": [
          "Disney+",
          "Disney+",
          "Disney+",
          "Disney+",
          "Disney+",
          "Disney+",
          "Disney+",
          "Disney+",
          "Disney+",
          "Disney+"
         ],
         "x0": " ",
         "xaxis": "x4",
         "y": [
          87,
          70,
          87,
          82,
          84,
          88,
          73,
          80,
          80,
          50
         ],
         "y0": " ",
         "yaxis": "y4"
        },
        {
         "alignmentgroup": "True",
         "box": {
          "visible": false
         },
         "hovertemplate": "Streaming On=%{x}<br>Rotten Tomatoes=%{y}<extra></extra>",
         "legendgroup": "Netflix",
         "marker": {
          "color": "#636efa"
         },
         "name": "Netflix",
         "offsetgroup": "Netflix",
         "orientation": "v",
         "scalegroup": "True",
         "showlegend": true,
         "type": "violin",
         "x": [
          "Netflix",
          "Netflix",
          "Netflix",
          "Netflix",
          "Netflix",
          "Netflix",
          "Netflix",
          "Netflix",
          "Netflix",
          "Netflix",
          "Netflix",
          "Netflix",
          "Netflix",
          "Netflix",
          "Netflix",
          "Netflix",
          "Netflix",
          "Netflix",
          "Netflix",
          "Netflix",
          "Netflix",
          "Netflix",
          "Netflix",
          "Netflix",
          "Netflix",
          "Netflix",
          "Netflix",
          "Netflix",
          "Netflix",
          "Netflix",
          "Netflix",
          "Netflix",
          "Netflix",
          "Netflix",
          "Netflix",
          "Netflix",
          "Netflix",
          "Netflix",
          "Netflix",
          "Netflix",
          "Netflix",
          "Netflix",
          "Netflix",
          "Netflix",
          "Netflix",
          "Netflix",
          "Netflix",
          "Netflix",
          "Netflix",
          "Netflix",
          "Netflix",
          "Netflix",
          "Netflix",
          "Netflix",
          "Netflix",
          "Netflix",
          "Netflix",
          "Netflix",
          "Netflix",
          "Netflix",
          "Netflix",
          "Netflix",
          "Netflix",
          "Netflix",
          "Netflix",
          "Netflix",
          "Netflix",
          "Netflix",
          "Netflix",
          "Netflix",
          "Netflix",
          "Netflix",
          "Netflix",
          "Netflix",
          "Netflix",
          "Netflix",
          "Netflix",
          "Netflix",
          "Netflix",
          "Netflix",
          "Netflix",
          "Netflix",
          "Netflix",
          "Netflix",
          "Netflix",
          "Netflix",
          "Netflix",
          "Netflix",
          "Netflix",
          "Netflix",
          "Netflix",
          "Netflix",
          "Netflix",
          "Netflix",
          "Netflix",
          "Netflix",
          "Netflix",
          "Netflix",
          "Netflix",
          "Netflix",
          "Netflix",
          "Netflix",
          "Netflix",
          "Netflix",
          "Netflix",
          "Netflix",
          "Netflix",
          "Netflix",
          "Netflix",
          "Netflix",
          "Netflix",
          "Netflix",
          "Netflix",
          "Netflix",
          "Netflix",
          "Netflix",
          "Netflix",
          "Netflix",
          "Netflix",
          "Netflix",
          "Netflix",
          "Netflix",
          "Netflix",
          "Netflix",
          "Netflix",
          "Netflix",
          "Netflix",
          "Netflix",
          "Netflix",
          "Netflix",
          "Netflix",
          "Netflix",
          "Netflix",
          "Netflix",
          "Netflix",
          "Netflix",
          "Netflix",
          "Netflix",
          "Netflix",
          "Netflix",
          "Netflix",
          "Netflix",
          "Netflix",
          "Netflix",
          "Netflix",
          "Netflix",
          "Netflix",
          "Netflix",
          "Netflix",
          "Netflix",
          "Netflix",
          "Netflix",
          "Netflix",
          "Netflix",
          "Netflix",
          "Netflix",
          "Netflix",
          "Netflix",
          "Netflix",
          "Netflix",
          "Netflix",
          "Netflix",
          "Netflix",
          "Netflix",
          "Netflix",
          "Netflix",
          "Netflix",
          "Netflix",
          "Netflix",
          "Netflix",
          "Netflix",
          "Netflix",
          "Netflix",
          "Netflix",
          "Netflix",
          "Netflix",
          "Netflix",
          "Netflix",
          "Netflix",
          "Netflix",
          "Netflix",
          "Netflix",
          "Netflix",
          "Netflix",
          "Netflix",
          "Netflix",
          "Netflix",
          "Netflix",
          "Netflix",
          "Netflix",
          "Netflix",
          "Netflix",
          "Netflix",
          "Netflix",
          "Netflix"
         ],
         "x0": " ",
         "xaxis": "x5",
         "y": [
          93,
          91,
          97,
          81,
          83,
          93,
          81,
          81,
          89,
          93,
          67,
          89,
          91,
          85,
          97,
          93,
          91,
          89,
          91,
          87,
          83,
          93,
          75,
          85,
          89,
          97,
          93,
          97,
          91,
          91,
          93,
          71,
          81,
          97,
          85,
          87,
          91,
          89,
          95,
          83,
          77,
          63,
          99,
          93,
          75,
          93,
          87,
          93,
          93,
          77,
          85,
          87,
          85,
          85,
          91,
          83,
          89,
          93,
          39,
          85,
          75,
          93,
          99,
          87,
          93,
          75,
          67,
          99,
          97,
          89,
          85,
          87,
          95,
          87,
          57,
          97,
          89,
          97,
          69,
          89,
          89,
          83,
          89,
          95,
          85,
          67,
          91,
          71,
          97,
          77,
          57,
          77,
          95,
          91,
          63,
          91,
          81,
          67,
          81,
          65,
          93,
          89,
          27,
          81,
          45,
          93,
          71,
          81,
          77,
          37,
          65,
          93,
          97,
          97,
          83,
          85,
          97,
          57,
          57,
          65,
          91,
          75,
          77,
          51,
          77,
          63,
          75,
          95,
          93,
          61,
          73,
          33,
          51,
          11,
          95,
          77,
          93,
          95,
          83,
          77,
          75,
          75,
          83,
          39,
          95,
          95,
          67,
          71,
          55,
          77,
          73,
          47,
          81,
          97,
          89,
          75,
          33,
          91,
          73,
          95,
          35,
          75,
          35,
          93,
          77,
          79,
          79,
          83,
          33,
          73,
          41,
          63,
          79,
          37,
          75,
          19,
          67,
          67,
          63,
          67,
          77,
          71,
          33,
          57,
          83,
          71,
          43,
          67,
          75,
          41,
          37,
          81,
          17,
          31,
          41
         ],
         "y0": " ",
         "yaxis": "y5"
        },
        {
         "alignmentgroup": "True",
         "box": {
          "visible": false
         },
         "hovertemplate": "Streaming On=%{x}<br>Rotten Tomatoes=%{y}<extra></extra>",
         "legendgroup": "Hulu",
         "marker": {
          "color": "#EF553B"
         },
         "name": "Hulu",
         "offsetgroup": "Hulu",
         "orientation": "v",
         "scalegroup": "True",
         "showlegend": true,
         "type": "violin",
         "x": [
          "Hulu",
          "Hulu",
          "Hulu",
          "Hulu",
          "Hulu",
          "Hulu",
          "Hulu",
          "Hulu",
          "Hulu",
          "Hulu",
          "Hulu",
          "Hulu",
          "Hulu",
          "Hulu",
          "Hulu",
          "Hulu",
          "Hulu",
          "Hulu",
          "Hulu",
          "Hulu",
          "Hulu",
          "Hulu",
          "Hulu",
          "Hulu",
          "Hulu",
          "Hulu",
          "Hulu",
          "Hulu",
          "Hulu",
          "Hulu",
          "Hulu",
          "Hulu",
          "Hulu",
          "Hulu",
          "Hulu",
          "Hulu",
          "Hulu",
          "Hulu",
          "Hulu",
          "Hulu",
          "Hulu",
          "Hulu",
          "Hulu",
          "Hulu",
          "Hulu",
          "Hulu",
          "Hulu",
          "Hulu",
          "Hulu",
          "Hulu",
          "Hulu",
          "Hulu",
          "Hulu",
          "Hulu",
          "Hulu",
          "Hulu",
          "Hulu",
          "Hulu",
          "Hulu",
          "Hulu",
          "Hulu",
          "Hulu",
          "Hulu",
          "Hulu",
          "Hulu",
          "Hulu",
          "Hulu",
          "Hulu",
          "Hulu",
          "Hulu",
          "Hulu",
          "Hulu",
          "Hulu",
          "Hulu",
          "Hulu",
          "Hulu",
          "Hulu",
          "Hulu",
          "Hulu",
          "Hulu",
          "Hulu",
          "Hulu",
          "Hulu",
          "Hulu",
          "Hulu",
          "Hulu",
          "Hulu",
          "Hulu",
          "Hulu",
          "Hulu",
          "Hulu",
          "Hulu",
          "Hulu",
          "Hulu",
          "Hulu",
          "Hulu",
          "Hulu",
          "Hulu",
          "Hulu",
          "Hulu",
          "Hulu",
          "Hulu",
          "Hulu",
          "Hulu",
          "Hulu",
          "Hulu",
          "Hulu",
          "Hulu",
          "Hulu",
          "Hulu",
          "Hulu",
          "Hulu",
          "Hulu",
          "Hulu",
          "Hulu",
          "Hulu",
          "Hulu",
          "Hulu",
          "Hulu",
          "Hulu",
          "Hulu",
          "Hulu",
          "Hulu",
          "Hulu",
          "Hulu",
          "Hulu",
          "Hulu",
          "Hulu",
          "Hulu",
          "Hulu",
          "Hulu",
          "Hulu",
          "Hulu",
          "Hulu",
          "Hulu",
          "Hulu",
          "Hulu",
          "Hulu",
          "Hulu",
          "Hulu",
          "Hulu",
          "Hulu",
          "Hulu",
          "Hulu",
          "Hulu",
          "Hulu",
          "Hulu",
          "Hulu",
          "Hulu",
          "Hulu",
          "Hulu",
          "Hulu",
          "Hulu",
          "Hulu",
          "Hulu",
          "Hulu",
          "Hulu",
          "Hulu",
          "Hulu",
          "Hulu",
          "Hulu",
          "Hulu",
          "Hulu",
          "Hulu",
          "Hulu",
          "Hulu",
          "Hulu",
          "Hulu",
          "Hulu",
          "Hulu"
         ],
         "x0": " ",
         "xaxis": "x6",
         "y": [
          93,
          89,
          97,
          83,
          75,
          71,
          81,
          89,
          87,
          77,
          51,
          63,
          93,
          97,
          85,
          85,
          85,
          81,
          83,
          95,
          87,
          97,
          91,
          97,
          83,
          75,
          97,
          91,
          85,
          91,
          95,
          97,
          83,
          81,
          93,
          97,
          69,
          87,
          65,
          83,
          69,
          91,
          81,
          99,
          85,
          99,
          87,
          97,
          91,
          87,
          95,
          83,
          95,
          87,
          91,
          79,
          81,
          87,
          77,
          89,
          87,
          91,
          89,
          85,
          97,
          73,
          97,
          89,
          79,
          89,
          77,
          89,
          81,
          97,
          89,
          57,
          75,
          97,
          91,
          87,
          83,
          61,
          95,
          97,
          85,
          89,
          75,
          75,
          67,
          65,
          91,
          79,
          81,
          53,
          93,
          61,
          95,
          93,
          77,
          75,
          83,
          75,
          75,
          95,
          87,
          77,
          93,
          75,
          59,
          85,
          73,
          97,
          91,
          73,
          67,
          67,
          67,
          73,
          41,
          77,
          67,
          73,
          95,
          39,
          91,
          67,
          51,
          65,
          89,
          77,
          43,
          83,
          59,
          59,
          81,
          43,
          83,
          81,
          83,
          73,
          33,
          89,
          9,
          39,
          77,
          47,
          43,
          11,
          93,
          17,
          33,
          67,
          81,
          93,
          83,
          79,
          93,
          73,
          89,
          67,
          23,
          67,
          67,
          85,
          25,
          9,
          21,
          25,
          83,
          67
         ],
         "y0": " ",
         "yaxis": "y6"
        },
        {
         "alignmentgroup": "True",
         "box": {
          "visible": false
         },
         "hovertemplate": "Streaming On=%{x}<br>Rotten Tomatoes=%{y}<extra></extra>",
         "legendgroup": "Prime Video",
         "marker": {
          "color": "#00cc96"
         },
         "name": "Prime Video",
         "offsetgroup": "Prime Video",
         "orientation": "v",
         "scalegroup": "True",
         "showlegend": true,
         "type": "violin",
         "x": [
          "Prime Video",
          "Prime Video",
          "Prime Video",
          "Prime Video",
          "Prime Video",
          "Prime Video",
          "Prime Video",
          "Prime Video",
          "Prime Video",
          "Prime Video",
          "Prime Video",
          "Prime Video",
          "Prime Video",
          "Prime Video",
          "Prime Video",
          "Prime Video",
          "Prime Video",
          "Prime Video",
          "Prime Video",
          "Prime Video",
          "Prime Video",
          "Prime Video",
          "Prime Video",
          "Prime Video",
          "Prime Video",
          "Prime Video",
          "Prime Video",
          "Prime Video",
          "Prime Video",
          "Prime Video",
          "Prime Video",
          "Prime Video",
          "Prime Video",
          "Prime Video",
          "Prime Video",
          "Prime Video",
          "Prime Video",
          "Prime Video",
          "Prime Video",
          "Prime Video",
          "Prime Video",
          "Prime Video",
          "Prime Video",
          "Prime Video",
          "Prime Video",
          "Prime Video",
          "Prime Video",
          "Prime Video",
          "Prime Video",
          "Prime Video",
          "Prime Video",
          "Prime Video",
          "Prime Video",
          "Prime Video",
          "Prime Video",
          "Prime Video",
          "Prime Video",
          "Prime Video",
          "Prime Video",
          "Prime Video",
          "Prime Video",
          "Prime Video",
          "Prime Video",
          "Prime Video",
          "Prime Video",
          "Prime Video",
          "Prime Video",
          "Prime Video",
          "Prime Video",
          "Prime Video",
          "Prime Video",
          "Prime Video",
          "Prime Video",
          "Prime Video",
          "Prime Video",
          "Prime Video",
          "Prime Video",
          "Prime Video",
          "Prime Video",
          "Prime Video",
          "Prime Video",
          "Prime Video",
          "Prime Video",
          "Prime Video",
          "Prime Video",
          "Prime Video",
          "Prime Video",
          "Prime Video",
          "Prime Video",
          "Prime Video",
          "Prime Video",
          "Prime Video",
          "Prime Video",
          "Prime Video",
          "Prime Video",
          "Prime Video",
          "Prime Video",
          "Prime Video",
          "Prime Video"
         ],
         "x0": " ",
         "xaxis": "x7",
         "y": [
          93,
          89,
          89,
          77,
          45,
          51,
          73,
          93,
          85,
          83,
          91,
          87,
          89,
          67,
          67,
          93,
          97,
          89,
          93,
          81,
          81,
          89,
          89,
          93,
          89,
          89,
          71,
          81,
          91,
          89,
          91,
          59,
          57,
          85,
          93,
          57,
          91,
          93,
          87,
          89,
          81,
          71,
          77,
          89,
          75,
          81,
          67,
          97,
          77,
          93,
          95,
          79,
          77,
          65,
          95,
          87,
          91,
          91,
          77,
          71,
          87,
          77,
          57,
          69,
          95,
          95,
          53,
          79,
          73,
          79,
          81,
          67,
          45,
          83,
          83,
          87,
          73,
          83,
          59,
          79,
          65,
          85,
          97,
          79,
          87,
          57,
          63,
          57,
          19,
          33,
          17,
          75,
          71,
          63,
          47,
          37,
          35,
          15,
          63
         ],
         "y0": " ",
         "yaxis": "y7"
        },
        {
         "alignmentgroup": "True",
         "box": {
          "visible": false
         },
         "hovertemplate": "Streaming On=%{x}<br>Rotten Tomatoes=%{y}<extra></extra>",
         "legendgroup": "Disney+",
         "marker": {
          "color": "#ab63fa"
         },
         "name": "Disney+",
         "offsetgroup": "Disney+",
         "orientation": "v",
         "scalegroup": "True",
         "showlegend": true,
         "type": "violin",
         "x": [
          "Disney+",
          "Disney+",
          "Disney+",
          "Disney+",
          "Disney+",
          "Disney+",
          "Disney+",
          "Disney+",
          "Disney+",
          "Disney+"
         ],
         "x0": " ",
         "xaxis": "x8",
         "y": [
          85,
          87,
          93,
          93,
          85,
          83,
          79,
          67,
          83,
          11
         ],
         "y0": " ",
         "yaxis": "y8"
        }
       ],
       "layout": {
        "autosize": false,
        "height": 800,
        "template": {
         "data": {
          "bar": [
           {
            "error_x": {
             "color": "#2a3f5f"
            },
            "error_y": {
             "color": "#2a3f5f"
            },
            "marker": {
             "line": {
              "color": "#E5ECF6",
              "width": 0.5
             }
            },
            "type": "bar"
           }
          ],
          "barpolar": [
           {
            "marker": {
             "line": {
              "color": "#E5ECF6",
              "width": 0.5
             }
            },
            "type": "barpolar"
           }
          ],
          "carpet": [
           {
            "aaxis": {
             "endlinecolor": "#2a3f5f",
             "gridcolor": "white",
             "linecolor": "white",
             "minorgridcolor": "white",
             "startlinecolor": "#2a3f5f"
            },
            "baxis": {
             "endlinecolor": "#2a3f5f",
             "gridcolor": "white",
             "linecolor": "white",
             "minorgridcolor": "white",
             "startlinecolor": "#2a3f5f"
            },
            "type": "carpet"
           }
          ],
          "choropleth": [
           {
            "colorbar": {
             "outlinewidth": 0,
             "ticks": ""
            },
            "type": "choropleth"
           }
          ],
          "contour": [
           {
            "colorbar": {
             "outlinewidth": 0,
             "ticks": ""
            },
            "colorscale": [
             [
              0,
              "#0d0887"
             ],
             [
              0.1111111111111111,
              "#46039f"
             ],
             [
              0.2222222222222222,
              "#7201a8"
             ],
             [
              0.3333333333333333,
              "#9c179e"
             ],
             [
              0.4444444444444444,
              "#bd3786"
             ],
             [
              0.5555555555555556,
              "#d8576b"
             ],
             [
              0.6666666666666666,
              "#ed7953"
             ],
             [
              0.7777777777777778,
              "#fb9f3a"
             ],
             [
              0.8888888888888888,
              "#fdca26"
             ],
             [
              1,
              "#f0f921"
             ]
            ],
            "type": "contour"
           }
          ],
          "contourcarpet": [
           {
            "colorbar": {
             "outlinewidth": 0,
             "ticks": ""
            },
            "type": "contourcarpet"
           }
          ],
          "heatmap": [
           {
            "colorbar": {
             "outlinewidth": 0,
             "ticks": ""
            },
            "colorscale": [
             [
              0,
              "#0d0887"
             ],
             [
              0.1111111111111111,
              "#46039f"
             ],
             [
              0.2222222222222222,
              "#7201a8"
             ],
             [
              0.3333333333333333,
              "#9c179e"
             ],
             [
              0.4444444444444444,
              "#bd3786"
             ],
             [
              0.5555555555555556,
              "#d8576b"
             ],
             [
              0.6666666666666666,
              "#ed7953"
             ],
             [
              0.7777777777777778,
              "#fb9f3a"
             ],
             [
              0.8888888888888888,
              "#fdca26"
             ],
             [
              1,
              "#f0f921"
             ]
            ],
            "type": "heatmap"
           }
          ],
          "heatmapgl": [
           {
            "colorbar": {
             "outlinewidth": 0,
             "ticks": ""
            },
            "colorscale": [
             [
              0,
              "#0d0887"
             ],
             [
              0.1111111111111111,
              "#46039f"
             ],
             [
              0.2222222222222222,
              "#7201a8"
             ],
             [
              0.3333333333333333,
              "#9c179e"
             ],
             [
              0.4444444444444444,
              "#bd3786"
             ],
             [
              0.5555555555555556,
              "#d8576b"
             ],
             [
              0.6666666666666666,
              "#ed7953"
             ],
             [
              0.7777777777777778,
              "#fb9f3a"
             ],
             [
              0.8888888888888888,
              "#fdca26"
             ],
             [
              1,
              "#f0f921"
             ]
            ],
            "type": "heatmapgl"
           }
          ],
          "histogram": [
           {
            "marker": {
             "colorbar": {
              "outlinewidth": 0,
              "ticks": ""
             }
            },
            "type": "histogram"
           }
          ],
          "histogram2d": [
           {
            "colorbar": {
             "outlinewidth": 0,
             "ticks": ""
            },
            "colorscale": [
             [
              0,
              "#0d0887"
             ],
             [
              0.1111111111111111,
              "#46039f"
             ],
             [
              0.2222222222222222,
              "#7201a8"
             ],
             [
              0.3333333333333333,
              "#9c179e"
             ],
             [
              0.4444444444444444,
              "#bd3786"
             ],
             [
              0.5555555555555556,
              "#d8576b"
             ],
             [
              0.6666666666666666,
              "#ed7953"
             ],
             [
              0.7777777777777778,
              "#fb9f3a"
             ],
             [
              0.8888888888888888,
              "#fdca26"
             ],
             [
              1,
              "#f0f921"
             ]
            ],
            "type": "histogram2d"
           }
          ],
          "histogram2dcontour": [
           {
            "colorbar": {
             "outlinewidth": 0,
             "ticks": ""
            },
            "colorscale": [
             [
              0,
              "#0d0887"
             ],
             [
              0.1111111111111111,
              "#46039f"
             ],
             [
              0.2222222222222222,
              "#7201a8"
             ],
             [
              0.3333333333333333,
              "#9c179e"
             ],
             [
              0.4444444444444444,
              "#bd3786"
             ],
             [
              0.5555555555555556,
              "#d8576b"
             ],
             [
              0.6666666666666666,
              "#ed7953"
             ],
             [
              0.7777777777777778,
              "#fb9f3a"
             ],
             [
              0.8888888888888888,
              "#fdca26"
             ],
             [
              1,
              "#f0f921"
             ]
            ],
            "type": "histogram2dcontour"
           }
          ],
          "mesh3d": [
           {
            "colorbar": {
             "outlinewidth": 0,
             "ticks": ""
            },
            "type": "mesh3d"
           }
          ],
          "parcoords": [
           {
            "line": {
             "colorbar": {
              "outlinewidth": 0,
              "ticks": ""
             }
            },
            "type": "parcoords"
           }
          ],
          "pie": [
           {
            "automargin": true,
            "type": "pie"
           }
          ],
          "scatter": [
           {
            "marker": {
             "colorbar": {
              "outlinewidth": 0,
              "ticks": ""
             }
            },
            "type": "scatter"
           }
          ],
          "scatter3d": [
           {
            "line": {
             "colorbar": {
              "outlinewidth": 0,
              "ticks": ""
             }
            },
            "marker": {
             "colorbar": {
              "outlinewidth": 0,
              "ticks": ""
             }
            },
            "type": "scatter3d"
           }
          ],
          "scattercarpet": [
           {
            "marker": {
             "colorbar": {
              "outlinewidth": 0,
              "ticks": ""
             }
            },
            "type": "scattercarpet"
           }
          ],
          "scattergeo": [
           {
            "marker": {
             "colorbar": {
              "outlinewidth": 0,
              "ticks": ""
             }
            },
            "type": "scattergeo"
           }
          ],
          "scattergl": [
           {
            "marker": {
             "colorbar": {
              "outlinewidth": 0,
              "ticks": ""
             }
            },
            "type": "scattergl"
           }
          ],
          "scattermapbox": [
           {
            "marker": {
             "colorbar": {
              "outlinewidth": 0,
              "ticks": ""
             }
            },
            "type": "scattermapbox"
           }
          ],
          "scatterpolar": [
           {
            "marker": {
             "colorbar": {
              "outlinewidth": 0,
              "ticks": ""
             }
            },
            "type": "scatterpolar"
           }
          ],
          "scatterpolargl": [
           {
            "marker": {
             "colorbar": {
              "outlinewidth": 0,
              "ticks": ""
             }
            },
            "type": "scatterpolargl"
           }
          ],
          "scatterternary": [
           {
            "marker": {
             "colorbar": {
              "outlinewidth": 0,
              "ticks": ""
             }
            },
            "type": "scatterternary"
           }
          ],
          "surface": [
           {
            "colorbar": {
             "outlinewidth": 0,
             "ticks": ""
            },
            "colorscale": [
             [
              0,
              "#0d0887"
             ],
             [
              0.1111111111111111,
              "#46039f"
             ],
             [
              0.2222222222222222,
              "#7201a8"
             ],
             [
              0.3333333333333333,
              "#9c179e"
             ],
             [
              0.4444444444444444,
              "#bd3786"
             ],
             [
              0.5555555555555556,
              "#d8576b"
             ],
             [
              0.6666666666666666,
              "#ed7953"
             ],
             [
              0.7777777777777778,
              "#fb9f3a"
             ],
             [
              0.8888888888888888,
              "#fdca26"
             ],
             [
              1,
              "#f0f921"
             ]
            ],
            "type": "surface"
           }
          ],
          "table": [
           {
            "cells": {
             "fill": {
              "color": "#EBF0F8"
             },
             "line": {
              "color": "white"
             }
            },
            "header": {
             "fill": {
              "color": "#C8D4E3"
             },
             "line": {
              "color": "white"
             }
            },
            "type": "table"
           }
          ]
         },
         "layout": {
          "annotationdefaults": {
           "arrowcolor": "#2a3f5f",
           "arrowhead": 0,
           "arrowwidth": 1
          },
          "autotypenumbers": "strict",
          "coloraxis": {
           "colorbar": {
            "outlinewidth": 0,
            "ticks": ""
           }
          },
          "colorscale": {
           "diverging": [
            [
             0,
             "#8e0152"
            ],
            [
             0.1,
             "#c51b7d"
            ],
            [
             0.2,
             "#de77ae"
            ],
            [
             0.3,
             "#f1b6da"
            ],
            [
             0.4,
             "#fde0ef"
            ],
            [
             0.5,
             "#f7f7f7"
            ],
            [
             0.6,
             "#e6f5d0"
            ],
            [
             0.7,
             "#b8e186"
            ],
            [
             0.8,
             "#7fbc41"
            ],
            [
             0.9,
             "#4d9221"
            ],
            [
             1,
             "#276419"
            ]
           ],
           "sequential": [
            [
             0,
             "#0d0887"
            ],
            [
             0.1111111111111111,
             "#46039f"
            ],
            [
             0.2222222222222222,
             "#7201a8"
            ],
            [
             0.3333333333333333,
             "#9c179e"
            ],
            [
             0.4444444444444444,
             "#bd3786"
            ],
            [
             0.5555555555555556,
             "#d8576b"
            ],
            [
             0.6666666666666666,
             "#ed7953"
            ],
            [
             0.7777777777777778,
             "#fb9f3a"
            ],
            [
             0.8888888888888888,
             "#fdca26"
            ],
            [
             1,
             "#f0f921"
            ]
           ],
           "sequentialminus": [
            [
             0,
             "#0d0887"
            ],
            [
             0.1111111111111111,
             "#46039f"
            ],
            [
             0.2222222222222222,
             "#7201a8"
            ],
            [
             0.3333333333333333,
             "#9c179e"
            ],
            [
             0.4444444444444444,
             "#bd3786"
            ],
            [
             0.5555555555555556,
             "#d8576b"
            ],
            [
             0.6666666666666666,
             "#ed7953"
            ],
            [
             0.7777777777777778,
             "#fb9f3a"
            ],
            [
             0.8888888888888888,
             "#fdca26"
            ],
            [
             1,
             "#f0f921"
            ]
           ]
          },
          "colorway": [
           "#636efa",
           "#EF553B",
           "#00cc96",
           "#ab63fa",
           "#FFA15A",
           "#19d3f3",
           "#FF6692",
           "#B6E880",
           "#FF97FF",
           "#FECB52"
          ],
          "font": {
           "color": "#2a3f5f"
          },
          "geo": {
           "bgcolor": "white",
           "lakecolor": "white",
           "landcolor": "#E5ECF6",
           "showlakes": true,
           "showland": true,
           "subunitcolor": "white"
          },
          "hoverlabel": {
           "align": "left"
          },
          "hovermode": "closest",
          "mapbox": {
           "style": "light"
          },
          "paper_bgcolor": "white",
          "plot_bgcolor": "#E5ECF6",
          "polar": {
           "angularaxis": {
            "gridcolor": "white",
            "linecolor": "white",
            "ticks": ""
           },
           "bgcolor": "#E5ECF6",
           "radialaxis": {
            "gridcolor": "white",
            "linecolor": "white",
            "ticks": ""
           }
          },
          "scene": {
           "xaxis": {
            "backgroundcolor": "#E5ECF6",
            "gridcolor": "white",
            "gridwidth": 2,
            "linecolor": "white",
            "showbackground": true,
            "ticks": "",
            "zerolinecolor": "white"
           },
           "yaxis": {
            "backgroundcolor": "#E5ECF6",
            "gridcolor": "white",
            "gridwidth": 2,
            "linecolor": "white",
            "showbackground": true,
            "ticks": "",
            "zerolinecolor": "white"
           },
           "zaxis": {
            "backgroundcolor": "#E5ECF6",
            "gridcolor": "white",
            "gridwidth": 2,
            "linecolor": "white",
            "showbackground": true,
            "ticks": "",
            "zerolinecolor": "white"
           }
          },
          "shapedefaults": {
           "line": {
            "color": "#2a3f5f"
           }
          },
          "ternary": {
           "aaxis": {
            "gridcolor": "white",
            "linecolor": "white",
            "ticks": ""
           },
           "baxis": {
            "gridcolor": "white",
            "linecolor": "white",
            "ticks": ""
           },
           "bgcolor": "#E5ECF6",
           "caxis": {
            "gridcolor": "white",
            "linecolor": "white",
            "ticks": ""
           }
          },
          "title": {
           "x": 0.05
          },
          "xaxis": {
           "automargin": true,
           "gridcolor": "white",
           "linecolor": "white",
           "ticks": "",
           "title": {
            "standoff": 15
           },
           "zerolinecolor": "white",
           "zerolinewidth": 2
          },
          "yaxis": {
           "automargin": true,
           "gridcolor": "white",
           "linecolor": "white",
           "ticks": "",
           "title": {
            "standoff": 15
           },
           "zerolinecolor": "white",
           "zerolinewidth": 2
          }
         }
        },
        "width": 800,
        "xaxis": {
         "anchor": "y",
         "domain": [
          0,
          0.2125
         ]
        },
        "xaxis2": {
         "anchor": "y2",
         "domain": [
          0.2625,
          0.475
         ]
        },
        "xaxis3": {
         "anchor": "y3",
         "domain": [
          0.525,
          0.7375
         ]
        },
        "xaxis4": {
         "anchor": "y4",
         "domain": [
          0.7875,
          1
         ]
        },
        "xaxis5": {
         "anchor": "y5",
         "domain": [
          0,
          0.2125
         ]
        },
        "xaxis6": {
         "anchor": "y6",
         "domain": [
          0.2625,
          0.475
         ]
        },
        "xaxis7": {
         "anchor": "y7",
         "domain": [
          0.525,
          0.7375
         ]
        },
        "xaxis8": {
         "anchor": "y8",
         "domain": [
          0.7875,
          1
         ]
        },
        "yaxis": {
         "anchor": "x",
         "domain": [
          0.575,
          1
         ]
        },
        "yaxis2": {
         "anchor": "x2",
         "domain": [
          0.575,
          1
         ],
         "matches": "y",
         "showticklabels": false
        },
        "yaxis3": {
         "anchor": "x3",
         "domain": [
          0.575,
          1
         ],
         "matches": "y",
         "showticklabels": false
        },
        "yaxis4": {
         "anchor": "x4",
         "domain": [
          0.575,
          1
         ],
         "matches": "y",
         "showticklabels": false
        },
        "yaxis5": {
         "anchor": "x5",
         "domain": [
          0,
          0.425
         ]
        },
        "yaxis6": {
         "anchor": "x6",
         "domain": [
          0,
          0.425
         ],
         "matches": "y5",
         "showticklabels": false
        },
        "yaxis7": {
         "anchor": "x7",
         "domain": [
          0,
          0.425
         ],
         "matches": "y5",
         "showticklabels": false
        },
        "yaxis8": {
         "anchor": "x8",
         "domain": [
          0,
          0.425
         ],
         "matches": "y5",
         "showticklabels": false
        }
       }
      },
      "text/html": [
       "<div>                            <div id=\"140faf17-1548-4e06-ba92-3b68595f4384\" class=\"plotly-graph-div\" style=\"height:800px; width:800px;\"></div>            <script type=\"text/javascript\">                require([\"plotly\"], function(Plotly) {                    window.PLOTLYENV=window.PLOTLYENV || {};                                    if (document.getElementById(\"140faf17-1548-4e06-ba92-3b68595f4384\")) {                    Plotly.newPlot(                        \"140faf17-1548-4e06-ba92-3b68595f4384\",                        [{\"alignmentgroup\": \"True\", \"box\": {\"visible\": false}, \"hovertemplate\": \"Streaming On=%{x}<br>IMDb=%{y}<extra></extra>\", \"legendgroup\": \"Netflix\", \"marker\": {\"color\": \"#636efa\"}, \"name\": \"Netflix\", \"offsetgroup\": \"Netflix\", \"orientation\": \"v\", \"scalegroup\": \"True\", \"showlegend\": true, \"type\": \"violin\", \"x\": [\"Netflix\", \"Netflix\", \"Netflix\", \"Netflix\", \"Netflix\", \"Netflix\", \"Netflix\", \"Netflix\", \"Netflix\", \"Netflix\", \"Netflix\", \"Netflix\", \"Netflix\", \"Netflix\", \"Netflix\", \"Netflix\", \"Netflix\", \"Netflix\", \"Netflix\", \"Netflix\", \"Netflix\", \"Netflix\", \"Netflix\", \"Netflix\", \"Netflix\", \"Netflix\", \"Netflix\", \"Netflix\", \"Netflix\", \"Netflix\", \"Netflix\", \"Netflix\", \"Netflix\", \"Netflix\", \"Netflix\", \"Netflix\", \"Netflix\", \"Netflix\", \"Netflix\", \"Netflix\", \"Netflix\", \"Netflix\", \"Netflix\", \"Netflix\", \"Netflix\", \"Netflix\", \"Netflix\", \"Netflix\", \"Netflix\", \"Netflix\", \"Netflix\", \"Netflix\", \"Netflix\", \"Netflix\", \"Netflix\", \"Netflix\", \"Netflix\", \"Netflix\", \"Netflix\", \"Netflix\", \"Netflix\", \"Netflix\", \"Netflix\", \"Netflix\", \"Netflix\", \"Netflix\", \"Netflix\", \"Netflix\", \"Netflix\", \"Netflix\", \"Netflix\", \"Netflix\", \"Netflix\", \"Netflix\", \"Netflix\", \"Netflix\", \"Netflix\", \"Netflix\", \"Netflix\", \"Netflix\", \"Netflix\", \"Netflix\", \"Netflix\", \"Netflix\", \"Netflix\", \"Netflix\", \"Netflix\", \"Netflix\", \"Netflix\", \"Netflix\", \"Netflix\", \"Netflix\", \"Netflix\", \"Netflix\", \"Netflix\", \"Netflix\", \"Netflix\", \"Netflix\", \"Netflix\", \"Netflix\", \"Netflix\", \"Netflix\", \"Netflix\", \"Netflix\", \"Netflix\", \"Netflix\", \"Netflix\", \"Netflix\", \"Netflix\", \"Netflix\", \"Netflix\", \"Netflix\", \"Netflix\", \"Netflix\", \"Netflix\", \"Netflix\", \"Netflix\", \"Netflix\", \"Netflix\", \"Netflix\", \"Netflix\", \"Netflix\", \"Netflix\", \"Netflix\", \"Netflix\", \"Netflix\", \"Netflix\", \"Netflix\", \"Netflix\", \"Netflix\", \"Netflix\", \"Netflix\", \"Netflix\", \"Netflix\", \"Netflix\", \"Netflix\", \"Netflix\", \"Netflix\", \"Netflix\", \"Netflix\", \"Netflix\", \"Netflix\", \"Netflix\", \"Netflix\", \"Netflix\", \"Netflix\", \"Netflix\", \"Netflix\", \"Netflix\", \"Netflix\", \"Netflix\", \"Netflix\", \"Netflix\", \"Netflix\", \"Netflix\", \"Netflix\", \"Netflix\", \"Netflix\", \"Netflix\", \"Netflix\", \"Netflix\", \"Netflix\", \"Netflix\", \"Netflix\", \"Netflix\", \"Netflix\", \"Netflix\", \"Netflix\", \"Netflix\", \"Netflix\", \"Netflix\", \"Netflix\", \"Netflix\", \"Netflix\", \"Netflix\", \"Netflix\", \"Netflix\", \"Netflix\", \"Netflix\", \"Netflix\", \"Netflix\", \"Netflix\", \"Netflix\", \"Netflix\", \"Netflix\", \"Netflix\", \"Netflix\", \"Netflix\", \"Netflix\", \"Netflix\", \"Netflix\", \"Netflix\", \"Netflix\", \"Netflix\", \"Netflix\"], \"x0\": \" \", \"xaxis\": \"x\", \"y\": [88, 84, 87, 89, 88, 84, 82, 84, 88, 86, 83, 88, 84, 86, 82, 87, 80, 77, 84, 82, 76, 81, 87, 77, 87, 76, 87, 80, 82, 81, 84, 81, 74, 84, 76, 85, 78, 86, 80, 80, 79, 85, 84, 81, 88, 82, 83, 82, 93, 78, 76, 79, 77, 81, 79, 80, 83, 80, 78, 83, 73, 77, 82, 68, 81, 71, 74, 78, 82, 78, 78, 85, 83, 73, 77, 84, 75, 81, 81, 73, 84, 72, 83, 73, 79, 80, 85, 75, 79, 78, 77, 72, 84, 82, 75, 85, 77, 81, 81, 77, 74, 81, 82, 77, 84, 79, 67, 68, 73, 65, 80, 75, 83, 78, 71, 70, 73, 73, 75, 74, 76, 72, 75, 70, 77, 77, 74, 61, 85, 75, 60, 74, 66, 66, 76, 74, 79, 80, 64, 71, 64, 79, 79, 76, 76, 62, 76, 71, 61, 72, 74, 65, 63, 74, 74, 65, 61, 75, 64, 82, 72, 70, 59, 74, 67, 74, 66, 73, 73, 70, 65, 76, 72, 65, 70, 67, 66, 73, 60, 63, 58, 38, 68, 65, 71, 70, 77, 69, 36, 61, 64, 52, 57, 23, 58], \"y0\": \" \", \"yaxis\": \"y\"}, {\"alignmentgroup\": \"True\", \"box\": {\"visible\": false}, \"hovertemplate\": \"Streaming On=%{x}<br>IMDb=%{y}<extra></extra>\", \"legendgroup\": \"Hulu\", \"marker\": {\"color\": \"#EF553B\"}, \"name\": \"Hulu\", \"offsetgroup\": \"Hulu\", \"orientation\": \"v\", \"scalegroup\": \"True\", \"showlegend\": true, \"type\": \"violin\", \"x\": [\"Hulu\", \"Hulu\", \"Hulu\", \"Hulu\", \"Hulu\", \"Hulu\", \"Hulu\", \"Hulu\", \"Hulu\", \"Hulu\", \"Hulu\", \"Hulu\", \"Hulu\", \"Hulu\", \"Hulu\", \"Hulu\", \"Hulu\", \"Hulu\", \"Hulu\", \"Hulu\", \"Hulu\", \"Hulu\", \"Hulu\", \"Hulu\", \"Hulu\", \"Hulu\", \"Hulu\", \"Hulu\", \"Hulu\", \"Hulu\", \"Hulu\", \"Hulu\", \"Hulu\", \"Hulu\", \"Hulu\", \"Hulu\", \"Hulu\", \"Hulu\", \"Hulu\", \"Hulu\", \"Hulu\", \"Hulu\", \"Hulu\", \"Hulu\", \"Hulu\", \"Hulu\", \"Hulu\", \"Hulu\", \"Hulu\", \"Hulu\", \"Hulu\", \"Hulu\", \"Hulu\", \"Hulu\", \"Hulu\", \"Hulu\", \"Hulu\", \"Hulu\", \"Hulu\", \"Hulu\", \"Hulu\", \"Hulu\", \"Hulu\", \"Hulu\", \"Hulu\", \"Hulu\", \"Hulu\", \"Hulu\", \"Hulu\", \"Hulu\", \"Hulu\", \"Hulu\", \"Hulu\", \"Hulu\", \"Hulu\", \"Hulu\", \"Hulu\", \"Hulu\", \"Hulu\", \"Hulu\", \"Hulu\", \"Hulu\", \"Hulu\", \"Hulu\", \"Hulu\", \"Hulu\", \"Hulu\", \"Hulu\", \"Hulu\", \"Hulu\", \"Hulu\", \"Hulu\", \"Hulu\", \"Hulu\", \"Hulu\", \"Hulu\", \"Hulu\", \"Hulu\", \"Hulu\", \"Hulu\", \"Hulu\", \"Hulu\", \"Hulu\", \"Hulu\", \"Hulu\", \"Hulu\", \"Hulu\", \"Hulu\", \"Hulu\", \"Hulu\", \"Hulu\", \"Hulu\", \"Hulu\", \"Hulu\", \"Hulu\", \"Hulu\", \"Hulu\", \"Hulu\", \"Hulu\", \"Hulu\", \"Hulu\", \"Hulu\", \"Hulu\", \"Hulu\", \"Hulu\", \"Hulu\", \"Hulu\", \"Hulu\", \"Hulu\", \"Hulu\", \"Hulu\", \"Hulu\", \"Hulu\", \"Hulu\", \"Hulu\", \"Hulu\", \"Hulu\", \"Hulu\", \"Hulu\", \"Hulu\", \"Hulu\", \"Hulu\", \"Hulu\", \"Hulu\", \"Hulu\", \"Hulu\", \"Hulu\", \"Hulu\", \"Hulu\", \"Hulu\", \"Hulu\", \"Hulu\", \"Hulu\", \"Hulu\", \"Hulu\", \"Hulu\", \"Hulu\", \"Hulu\", \"Hulu\", \"Hulu\", \"Hulu\", \"Hulu\", \"Hulu\", \"Hulu\", \"Hulu\", \"Hulu\", \"Hulu\", \"Hulu\", \"Hulu\", \"Hulu\"], \"x0\": \" \", \"xaxis\": \"x2\", \"y\": [86, 88, 82, 76, 87, 81, 74, 86, 79, 78, 66, 60, 85, 84, 87, 83, 90, 87, 83, 84, 86, 84, 86, 86, 83, 86, 87, 81, 82, 83, 79, 86, 88, 77, 80, 86, 82, 80, 80, 85, 78, 75, 78, 78, 83, 84, 81, 88, 77, 76, 81, 75, 74, 80, 78, 73, 82, 70, 77, 80, 84, 81, 81, 76, 77, 69, 80, 82, 74, 79, 74, 83, 80, 83, 73, 72, 76, 65, 71, 67, 78, 74, 83, 80, 73, 69, 71, 79, 80, 76, 82, 75, 78, 79, 77, 68, 84, 79, 67, 79, 71, 77, 75, 78, 74, 73, 75, 70, 75, 73, 73, 77, 67, 76, 70, 81, 72, 69, 73, 75, 77, 76, 70, 70, 74, 67, 74, 70, 53, 73, 71, 76, 62, 62, 75, 74, 81, 79, 77, 62, 74, 56, 67, 67, 59, 62, 49, 69, 77, 41, 59, 76, 64, 62, 72, 70, 57, 79, 66, 70, 67, 56, 57, 74, 43, 63, 66, 64, 73, 42], \"y0\": \" \", \"yaxis\": \"y2\"}, {\"alignmentgroup\": \"True\", \"box\": {\"visible\": false}, \"hovertemplate\": \"Streaming On=%{x}<br>IMDb=%{y}<extra></extra>\", \"legendgroup\": \"Prime Video\", \"marker\": {\"color\": \"#00cc96\"}, \"name\": \"Prime Video\", \"offsetgroup\": \"Prime Video\", \"orientation\": \"v\", \"scalegroup\": \"True\", \"showlegend\": true, \"type\": \"violin\", \"x\": [\"Prime Video\", \"Prime Video\", \"Prime Video\", \"Prime Video\", \"Prime Video\", \"Prime Video\", \"Prime Video\", \"Prime Video\", \"Prime Video\", \"Prime Video\", \"Prime Video\", \"Prime Video\", \"Prime Video\", \"Prime Video\", \"Prime Video\", \"Prime Video\", \"Prime Video\", \"Prime Video\", \"Prime Video\", \"Prime Video\", \"Prime Video\", \"Prime Video\", \"Prime Video\", \"Prime Video\", \"Prime Video\", \"Prime Video\", \"Prime Video\", \"Prime Video\", \"Prime Video\", \"Prime Video\", \"Prime Video\", \"Prime Video\", \"Prime Video\", \"Prime Video\", \"Prime Video\", \"Prime Video\", \"Prime Video\", \"Prime Video\", \"Prime Video\", \"Prime Video\", \"Prime Video\", \"Prime Video\", \"Prime Video\", \"Prime Video\", \"Prime Video\", \"Prime Video\", \"Prime Video\", \"Prime Video\", \"Prime Video\", \"Prime Video\", \"Prime Video\", \"Prime Video\", \"Prime Video\", \"Prime Video\", \"Prime Video\", \"Prime Video\", \"Prime Video\", \"Prime Video\", \"Prime Video\", \"Prime Video\", \"Prime Video\", \"Prime Video\", \"Prime Video\", \"Prime Video\", \"Prime Video\", \"Prime Video\", \"Prime Video\", \"Prime Video\", \"Prime Video\", \"Prime Video\", \"Prime Video\", \"Prime Video\", \"Prime Video\", \"Prime Video\", \"Prime Video\", \"Prime Video\", \"Prime Video\", \"Prime Video\", \"Prime Video\", \"Prime Video\", \"Prime Video\", \"Prime Video\", \"Prime Video\", \"Prime Video\", \"Prime Video\", \"Prime Video\", \"Prime Video\", \"Prime Video\", \"Prime Video\", \"Prime Video\", \"Prime Video\", \"Prime Video\", \"Prime Video\", \"Prime Video\", \"Prime Video\", \"Prime Video\", \"Prime Video\", \"Prime Video\", \"Prime Video\"], \"x0\": \" \", \"xaxis\": \"x3\", \"y\": [86, 86, 83, 78, 84, 70, 64, 85, 82, 85, 75, 81, 69, 80, 76, 85, 84, 87, 83, 87, 82, 82, 83, 83, 84, 87, 81, 76, 83, 78, 81, 86, 83, 87, 82, 79, 82, 86, 83, 73, 85, 71, 82, 80, 80, 81, 75, 81, 70, 79, 74, 79, 74, 81, 77, 82, 73, 78, 66, 71, 75, 64, 73, 74, 79, 69, 75, 79, 82, 75, 74, 69, 79, 72, 73, 72, 74, 77, 69, 61, 67, 70, 85, 61, 62, 64, 66, 62, 67, 63, 66, 64, 59, 66, 75, 72, 38, 48, 61], \"y0\": \" \", \"yaxis\": \"y3\"}, {\"alignmentgroup\": \"True\", \"box\": {\"visible\": false}, \"hovertemplate\": \"Streaming On=%{x}<br>IMDb=%{y}<extra></extra>\", \"legendgroup\": \"Disney+\", \"marker\": {\"color\": \"#ab63fa\"}, \"name\": \"Disney+\", \"offsetgroup\": \"Disney+\", \"orientation\": \"v\", \"scalegroup\": \"True\", \"showlegend\": true, \"type\": \"violin\", \"x\": [\"Disney+\", \"Disney+\", \"Disney+\", \"Disney+\", \"Disney+\", \"Disney+\", \"Disney+\", \"Disney+\", \"Disney+\", \"Disney+\"], \"x0\": \" \", \"xaxis\": \"x4\", \"y\": [87, 70, 87, 82, 84, 88, 73, 80, 80, 50], \"y0\": \" \", \"yaxis\": \"y4\"}, {\"alignmentgroup\": \"True\", \"box\": {\"visible\": false}, \"hovertemplate\": \"Streaming On=%{x}<br>Rotten Tomatoes=%{y}<extra></extra>\", \"legendgroup\": \"Netflix\", \"marker\": {\"color\": \"#636efa\"}, \"name\": \"Netflix\", \"offsetgroup\": \"Netflix\", \"orientation\": \"v\", \"scalegroup\": \"True\", \"showlegend\": true, \"type\": \"violin\", \"x\": [\"Netflix\", \"Netflix\", \"Netflix\", \"Netflix\", \"Netflix\", \"Netflix\", \"Netflix\", \"Netflix\", \"Netflix\", \"Netflix\", \"Netflix\", \"Netflix\", \"Netflix\", \"Netflix\", \"Netflix\", \"Netflix\", \"Netflix\", \"Netflix\", \"Netflix\", \"Netflix\", \"Netflix\", \"Netflix\", \"Netflix\", \"Netflix\", \"Netflix\", \"Netflix\", \"Netflix\", \"Netflix\", \"Netflix\", \"Netflix\", \"Netflix\", \"Netflix\", \"Netflix\", \"Netflix\", \"Netflix\", \"Netflix\", \"Netflix\", \"Netflix\", \"Netflix\", \"Netflix\", \"Netflix\", \"Netflix\", \"Netflix\", \"Netflix\", \"Netflix\", \"Netflix\", \"Netflix\", \"Netflix\", \"Netflix\", \"Netflix\", \"Netflix\", \"Netflix\", \"Netflix\", \"Netflix\", \"Netflix\", \"Netflix\", \"Netflix\", \"Netflix\", \"Netflix\", \"Netflix\", \"Netflix\", \"Netflix\", \"Netflix\", \"Netflix\", \"Netflix\", \"Netflix\", \"Netflix\", \"Netflix\", \"Netflix\", \"Netflix\", \"Netflix\", \"Netflix\", \"Netflix\", \"Netflix\", \"Netflix\", \"Netflix\", \"Netflix\", \"Netflix\", \"Netflix\", \"Netflix\", \"Netflix\", \"Netflix\", \"Netflix\", \"Netflix\", \"Netflix\", \"Netflix\", \"Netflix\", \"Netflix\", \"Netflix\", \"Netflix\", \"Netflix\", \"Netflix\", \"Netflix\", \"Netflix\", \"Netflix\", \"Netflix\", \"Netflix\", \"Netflix\", \"Netflix\", \"Netflix\", \"Netflix\", \"Netflix\", \"Netflix\", \"Netflix\", \"Netflix\", \"Netflix\", \"Netflix\", \"Netflix\", \"Netflix\", \"Netflix\", \"Netflix\", \"Netflix\", \"Netflix\", \"Netflix\", \"Netflix\", \"Netflix\", \"Netflix\", \"Netflix\", \"Netflix\", \"Netflix\", \"Netflix\", \"Netflix\", \"Netflix\", \"Netflix\", \"Netflix\", \"Netflix\", \"Netflix\", \"Netflix\", \"Netflix\", \"Netflix\", \"Netflix\", \"Netflix\", \"Netflix\", \"Netflix\", \"Netflix\", \"Netflix\", \"Netflix\", \"Netflix\", \"Netflix\", \"Netflix\", \"Netflix\", \"Netflix\", \"Netflix\", \"Netflix\", \"Netflix\", \"Netflix\", \"Netflix\", \"Netflix\", \"Netflix\", \"Netflix\", \"Netflix\", \"Netflix\", \"Netflix\", \"Netflix\", \"Netflix\", \"Netflix\", \"Netflix\", \"Netflix\", \"Netflix\", \"Netflix\", \"Netflix\", \"Netflix\", \"Netflix\", \"Netflix\", \"Netflix\", \"Netflix\", \"Netflix\", \"Netflix\", \"Netflix\", \"Netflix\", \"Netflix\", \"Netflix\", \"Netflix\", \"Netflix\", \"Netflix\", \"Netflix\", \"Netflix\", \"Netflix\", \"Netflix\", \"Netflix\", \"Netflix\", \"Netflix\", \"Netflix\", \"Netflix\", \"Netflix\", \"Netflix\", \"Netflix\", \"Netflix\", \"Netflix\", \"Netflix\", \"Netflix\", \"Netflix\", \"Netflix\", \"Netflix\", \"Netflix\"], \"x0\": \" \", \"xaxis\": \"x5\", \"y\": [93, 91, 97, 81, 83, 93, 81, 81, 89, 93, 67, 89, 91, 85, 97, 93, 91, 89, 91, 87, 83, 93, 75, 85, 89, 97, 93, 97, 91, 91, 93, 71, 81, 97, 85, 87, 91, 89, 95, 83, 77, 63, 99, 93, 75, 93, 87, 93, 93, 77, 85, 87, 85, 85, 91, 83, 89, 93, 39, 85, 75, 93, 99, 87, 93, 75, 67, 99, 97, 89, 85, 87, 95, 87, 57, 97, 89, 97, 69, 89, 89, 83, 89, 95, 85, 67, 91, 71, 97, 77, 57, 77, 95, 91, 63, 91, 81, 67, 81, 65, 93, 89, 27, 81, 45, 93, 71, 81, 77, 37, 65, 93, 97, 97, 83, 85, 97, 57, 57, 65, 91, 75, 77, 51, 77, 63, 75, 95, 93, 61, 73, 33, 51, 11, 95, 77, 93, 95, 83, 77, 75, 75, 83, 39, 95, 95, 67, 71, 55, 77, 73, 47, 81, 97, 89, 75, 33, 91, 73, 95, 35, 75, 35, 93, 77, 79, 79, 83, 33, 73, 41, 63, 79, 37, 75, 19, 67, 67, 63, 67, 77, 71, 33, 57, 83, 71, 43, 67, 75, 41, 37, 81, 17, 31, 41], \"y0\": \" \", \"yaxis\": \"y5\"}, {\"alignmentgroup\": \"True\", \"box\": {\"visible\": false}, \"hovertemplate\": \"Streaming On=%{x}<br>Rotten Tomatoes=%{y}<extra></extra>\", \"legendgroup\": \"Hulu\", \"marker\": {\"color\": \"#EF553B\"}, \"name\": \"Hulu\", \"offsetgroup\": \"Hulu\", \"orientation\": \"v\", \"scalegroup\": \"True\", \"showlegend\": true, \"type\": \"violin\", \"x\": [\"Hulu\", \"Hulu\", \"Hulu\", \"Hulu\", \"Hulu\", \"Hulu\", \"Hulu\", \"Hulu\", \"Hulu\", \"Hulu\", \"Hulu\", \"Hulu\", \"Hulu\", \"Hulu\", \"Hulu\", \"Hulu\", \"Hulu\", \"Hulu\", \"Hulu\", \"Hulu\", \"Hulu\", \"Hulu\", \"Hulu\", \"Hulu\", \"Hulu\", \"Hulu\", \"Hulu\", \"Hulu\", \"Hulu\", \"Hulu\", \"Hulu\", \"Hulu\", \"Hulu\", \"Hulu\", \"Hulu\", \"Hulu\", \"Hulu\", \"Hulu\", \"Hulu\", \"Hulu\", \"Hulu\", \"Hulu\", \"Hulu\", \"Hulu\", \"Hulu\", \"Hulu\", \"Hulu\", \"Hulu\", \"Hulu\", \"Hulu\", \"Hulu\", \"Hulu\", \"Hulu\", \"Hulu\", \"Hulu\", \"Hulu\", \"Hulu\", \"Hulu\", \"Hulu\", \"Hulu\", \"Hulu\", \"Hulu\", \"Hulu\", \"Hulu\", \"Hulu\", \"Hulu\", \"Hulu\", \"Hulu\", \"Hulu\", \"Hulu\", \"Hulu\", \"Hulu\", \"Hulu\", \"Hulu\", \"Hulu\", \"Hulu\", \"Hulu\", \"Hulu\", \"Hulu\", \"Hulu\", \"Hulu\", \"Hulu\", \"Hulu\", \"Hulu\", \"Hulu\", \"Hulu\", \"Hulu\", \"Hulu\", \"Hulu\", \"Hulu\", \"Hulu\", \"Hulu\", \"Hulu\", \"Hulu\", \"Hulu\", \"Hulu\", \"Hulu\", \"Hulu\", \"Hulu\", \"Hulu\", \"Hulu\", \"Hulu\", \"Hulu\", \"Hulu\", \"Hulu\", \"Hulu\", \"Hulu\", \"Hulu\", \"Hulu\", \"Hulu\", \"Hulu\", \"Hulu\", \"Hulu\", \"Hulu\", \"Hulu\", \"Hulu\", \"Hulu\", \"Hulu\", \"Hulu\", \"Hulu\", \"Hulu\", \"Hulu\", \"Hulu\", \"Hulu\", \"Hulu\", \"Hulu\", \"Hulu\", \"Hulu\", \"Hulu\", \"Hulu\", \"Hulu\", \"Hulu\", \"Hulu\", \"Hulu\", \"Hulu\", \"Hulu\", \"Hulu\", \"Hulu\", \"Hulu\", \"Hulu\", \"Hulu\", \"Hulu\", \"Hulu\", \"Hulu\", \"Hulu\", \"Hulu\", \"Hulu\", \"Hulu\", \"Hulu\", \"Hulu\", \"Hulu\", \"Hulu\", \"Hulu\", \"Hulu\", \"Hulu\", \"Hulu\", \"Hulu\", \"Hulu\", \"Hulu\", \"Hulu\", \"Hulu\", \"Hulu\", \"Hulu\", \"Hulu\", \"Hulu\", \"Hulu\", \"Hulu\", \"Hulu\", \"Hulu\", \"Hulu\"], \"x0\": \" \", \"xaxis\": \"x6\", \"y\": [93, 89, 97, 83, 75, 71, 81, 89, 87, 77, 51, 63, 93, 97, 85, 85, 85, 81, 83, 95, 87, 97, 91, 97, 83, 75, 97, 91, 85, 91, 95, 97, 83, 81, 93, 97, 69, 87, 65, 83, 69, 91, 81, 99, 85, 99, 87, 97, 91, 87, 95, 83, 95, 87, 91, 79, 81, 87, 77, 89, 87, 91, 89, 85, 97, 73, 97, 89, 79, 89, 77, 89, 81, 97, 89, 57, 75, 97, 91, 87, 83, 61, 95, 97, 85, 89, 75, 75, 67, 65, 91, 79, 81, 53, 93, 61, 95, 93, 77, 75, 83, 75, 75, 95, 87, 77, 93, 75, 59, 85, 73, 97, 91, 73, 67, 67, 67, 73, 41, 77, 67, 73, 95, 39, 91, 67, 51, 65, 89, 77, 43, 83, 59, 59, 81, 43, 83, 81, 83, 73, 33, 89, 9, 39, 77, 47, 43, 11, 93, 17, 33, 67, 81, 93, 83, 79, 93, 73, 89, 67, 23, 67, 67, 85, 25, 9, 21, 25, 83, 67], \"y0\": \" \", \"yaxis\": \"y6\"}, {\"alignmentgroup\": \"True\", \"box\": {\"visible\": false}, \"hovertemplate\": \"Streaming On=%{x}<br>Rotten Tomatoes=%{y}<extra></extra>\", \"legendgroup\": \"Prime Video\", \"marker\": {\"color\": \"#00cc96\"}, \"name\": \"Prime Video\", \"offsetgroup\": \"Prime Video\", \"orientation\": \"v\", \"scalegroup\": \"True\", \"showlegend\": true, \"type\": \"violin\", \"x\": [\"Prime Video\", \"Prime Video\", \"Prime Video\", \"Prime Video\", \"Prime Video\", \"Prime Video\", \"Prime Video\", \"Prime Video\", \"Prime Video\", \"Prime Video\", \"Prime Video\", \"Prime Video\", \"Prime Video\", \"Prime Video\", \"Prime Video\", \"Prime Video\", \"Prime Video\", \"Prime Video\", \"Prime Video\", \"Prime Video\", \"Prime Video\", \"Prime Video\", \"Prime Video\", \"Prime Video\", \"Prime Video\", \"Prime Video\", \"Prime Video\", \"Prime Video\", \"Prime Video\", \"Prime Video\", \"Prime Video\", \"Prime Video\", \"Prime Video\", \"Prime Video\", \"Prime Video\", \"Prime Video\", \"Prime Video\", \"Prime Video\", \"Prime Video\", \"Prime Video\", \"Prime Video\", \"Prime Video\", \"Prime Video\", \"Prime Video\", \"Prime Video\", \"Prime Video\", \"Prime Video\", \"Prime Video\", \"Prime Video\", \"Prime Video\", \"Prime Video\", \"Prime Video\", \"Prime Video\", \"Prime Video\", \"Prime Video\", \"Prime Video\", \"Prime Video\", \"Prime Video\", \"Prime Video\", \"Prime Video\", \"Prime Video\", \"Prime Video\", \"Prime Video\", \"Prime Video\", \"Prime Video\", \"Prime Video\", \"Prime Video\", \"Prime Video\", \"Prime Video\", \"Prime Video\", \"Prime Video\", \"Prime Video\", \"Prime Video\", \"Prime Video\", \"Prime Video\", \"Prime Video\", \"Prime Video\", \"Prime Video\", \"Prime Video\", \"Prime Video\", \"Prime Video\", \"Prime Video\", \"Prime Video\", \"Prime Video\", \"Prime Video\", \"Prime Video\", \"Prime Video\", \"Prime Video\", \"Prime Video\", \"Prime Video\", \"Prime Video\", \"Prime Video\", \"Prime Video\", \"Prime Video\", \"Prime Video\", \"Prime Video\", \"Prime Video\", \"Prime Video\", \"Prime Video\"], \"x0\": \" \", \"xaxis\": \"x7\", \"y\": [93, 89, 89, 77, 45, 51, 73, 93, 85, 83, 91, 87, 89, 67, 67, 93, 97, 89, 93, 81, 81, 89, 89, 93, 89, 89, 71, 81, 91, 89, 91, 59, 57, 85, 93, 57, 91, 93, 87, 89, 81, 71, 77, 89, 75, 81, 67, 97, 77, 93, 95, 79, 77, 65, 95, 87, 91, 91, 77, 71, 87, 77, 57, 69, 95, 95, 53, 79, 73, 79, 81, 67, 45, 83, 83, 87, 73, 83, 59, 79, 65, 85, 97, 79, 87, 57, 63, 57, 19, 33, 17, 75, 71, 63, 47, 37, 35, 15, 63], \"y0\": \" \", \"yaxis\": \"y7\"}, {\"alignmentgroup\": \"True\", \"box\": {\"visible\": false}, \"hovertemplate\": \"Streaming On=%{x}<br>Rotten Tomatoes=%{y}<extra></extra>\", \"legendgroup\": \"Disney+\", \"marker\": {\"color\": \"#ab63fa\"}, \"name\": \"Disney+\", \"offsetgroup\": \"Disney+\", \"orientation\": \"v\", \"scalegroup\": \"True\", \"showlegend\": true, \"type\": \"violin\", \"x\": [\"Disney+\", \"Disney+\", \"Disney+\", \"Disney+\", \"Disney+\", \"Disney+\", \"Disney+\", \"Disney+\", \"Disney+\", \"Disney+\"], \"x0\": \" \", \"xaxis\": \"x8\", \"y\": [85, 87, 93, 93, 85, 83, 79, 67, 83, 11], \"y0\": \" \", \"yaxis\": \"y8\"}],                        {\"autosize\": false, \"height\": 800, \"template\": {\"data\": {\"bar\": [{\"error_x\": {\"color\": \"#2a3f5f\"}, \"error_y\": {\"color\": \"#2a3f5f\"}, \"marker\": {\"line\": {\"color\": \"#E5ECF6\", \"width\": 0.5}}, \"type\": \"bar\"}], \"barpolar\": [{\"marker\": {\"line\": {\"color\": \"#E5ECF6\", \"width\": 0.5}}, \"type\": \"barpolar\"}], \"carpet\": [{\"aaxis\": {\"endlinecolor\": \"#2a3f5f\", \"gridcolor\": \"white\", \"linecolor\": \"white\", \"minorgridcolor\": \"white\", \"startlinecolor\": \"#2a3f5f\"}, \"baxis\": {\"endlinecolor\": \"#2a3f5f\", \"gridcolor\": \"white\", \"linecolor\": \"white\", \"minorgridcolor\": \"white\", \"startlinecolor\": \"#2a3f5f\"}, \"type\": \"carpet\"}], \"choropleth\": [{\"colorbar\": {\"outlinewidth\": 0, \"ticks\": \"\"}, \"type\": \"choropleth\"}], \"contour\": [{\"colorbar\": {\"outlinewidth\": 0, \"ticks\": \"\"}, \"colorscale\": [[0.0, \"#0d0887\"], [0.1111111111111111, \"#46039f\"], [0.2222222222222222, \"#7201a8\"], [0.3333333333333333, \"#9c179e\"], [0.4444444444444444, \"#bd3786\"], [0.5555555555555556, \"#d8576b\"], [0.6666666666666666, \"#ed7953\"], [0.7777777777777778, \"#fb9f3a\"], [0.8888888888888888, \"#fdca26\"], [1.0, \"#f0f921\"]], \"type\": \"contour\"}], \"contourcarpet\": [{\"colorbar\": {\"outlinewidth\": 0, \"ticks\": \"\"}, \"type\": \"contourcarpet\"}], \"heatmap\": [{\"colorbar\": {\"outlinewidth\": 0, \"ticks\": \"\"}, \"colorscale\": [[0.0, \"#0d0887\"], [0.1111111111111111, \"#46039f\"], [0.2222222222222222, \"#7201a8\"], [0.3333333333333333, \"#9c179e\"], [0.4444444444444444, \"#bd3786\"], [0.5555555555555556, \"#d8576b\"], [0.6666666666666666, \"#ed7953\"], [0.7777777777777778, \"#fb9f3a\"], [0.8888888888888888, \"#fdca26\"], [1.0, \"#f0f921\"]], \"type\": \"heatmap\"}], \"heatmapgl\": [{\"colorbar\": {\"outlinewidth\": 0, \"ticks\": \"\"}, \"colorscale\": [[0.0, \"#0d0887\"], [0.1111111111111111, \"#46039f\"], [0.2222222222222222, \"#7201a8\"], [0.3333333333333333, \"#9c179e\"], [0.4444444444444444, \"#bd3786\"], [0.5555555555555556, \"#d8576b\"], [0.6666666666666666, \"#ed7953\"], [0.7777777777777778, \"#fb9f3a\"], [0.8888888888888888, \"#fdca26\"], [1.0, \"#f0f921\"]], \"type\": \"heatmapgl\"}], \"histogram\": [{\"marker\": {\"colorbar\": {\"outlinewidth\": 0, \"ticks\": \"\"}}, \"type\": \"histogram\"}], \"histogram2d\": [{\"colorbar\": {\"outlinewidth\": 0, \"ticks\": \"\"}, \"colorscale\": [[0.0, \"#0d0887\"], [0.1111111111111111, \"#46039f\"], [0.2222222222222222, \"#7201a8\"], [0.3333333333333333, \"#9c179e\"], [0.4444444444444444, \"#bd3786\"], [0.5555555555555556, \"#d8576b\"], [0.6666666666666666, \"#ed7953\"], [0.7777777777777778, \"#fb9f3a\"], [0.8888888888888888, \"#fdca26\"], [1.0, \"#f0f921\"]], \"type\": \"histogram2d\"}], \"histogram2dcontour\": [{\"colorbar\": {\"outlinewidth\": 0, \"ticks\": \"\"}, \"colorscale\": [[0.0, \"#0d0887\"], [0.1111111111111111, \"#46039f\"], [0.2222222222222222, \"#7201a8\"], [0.3333333333333333, \"#9c179e\"], [0.4444444444444444, \"#bd3786\"], [0.5555555555555556, \"#d8576b\"], [0.6666666666666666, \"#ed7953\"], [0.7777777777777778, \"#fb9f3a\"], [0.8888888888888888, \"#fdca26\"], [1.0, \"#f0f921\"]], \"type\": \"histogram2dcontour\"}], \"mesh3d\": [{\"colorbar\": {\"outlinewidth\": 0, \"ticks\": \"\"}, \"type\": \"mesh3d\"}], \"parcoords\": [{\"line\": {\"colorbar\": {\"outlinewidth\": 0, \"ticks\": \"\"}}, \"type\": \"parcoords\"}], \"pie\": [{\"automargin\": true, \"type\": \"pie\"}], \"scatter\": [{\"marker\": {\"colorbar\": {\"outlinewidth\": 0, \"ticks\": \"\"}}, \"type\": \"scatter\"}], \"scatter3d\": [{\"line\": {\"colorbar\": {\"outlinewidth\": 0, \"ticks\": \"\"}}, \"marker\": {\"colorbar\": {\"outlinewidth\": 0, \"ticks\": \"\"}}, \"type\": \"scatter3d\"}], \"scattercarpet\": [{\"marker\": {\"colorbar\": {\"outlinewidth\": 0, \"ticks\": \"\"}}, \"type\": \"scattercarpet\"}], \"scattergeo\": [{\"marker\": {\"colorbar\": {\"outlinewidth\": 0, \"ticks\": \"\"}}, \"type\": \"scattergeo\"}], \"scattergl\": [{\"marker\": {\"colorbar\": {\"outlinewidth\": 0, \"ticks\": \"\"}}, \"type\": \"scattergl\"}], \"scattermapbox\": [{\"marker\": {\"colorbar\": {\"outlinewidth\": 0, \"ticks\": \"\"}}, \"type\": \"scattermapbox\"}], \"scatterpolar\": [{\"marker\": {\"colorbar\": {\"outlinewidth\": 0, \"ticks\": \"\"}}, \"type\": \"scatterpolar\"}], \"scatterpolargl\": [{\"marker\": {\"colorbar\": {\"outlinewidth\": 0, \"ticks\": \"\"}}, \"type\": \"scatterpolargl\"}], \"scatterternary\": [{\"marker\": {\"colorbar\": {\"outlinewidth\": 0, \"ticks\": \"\"}}, \"type\": \"scatterternary\"}], \"surface\": [{\"colorbar\": {\"outlinewidth\": 0, \"ticks\": \"\"}, \"colorscale\": [[0.0, \"#0d0887\"], [0.1111111111111111, \"#46039f\"], [0.2222222222222222, \"#7201a8\"], [0.3333333333333333, \"#9c179e\"], [0.4444444444444444, \"#bd3786\"], [0.5555555555555556, \"#d8576b\"], [0.6666666666666666, \"#ed7953\"], [0.7777777777777778, \"#fb9f3a\"], [0.8888888888888888, \"#fdca26\"], [1.0, \"#f0f921\"]], \"type\": \"surface\"}], \"table\": [{\"cells\": {\"fill\": {\"color\": \"#EBF0F8\"}, \"line\": {\"color\": \"white\"}}, \"header\": {\"fill\": {\"color\": \"#C8D4E3\"}, \"line\": {\"color\": \"white\"}}, \"type\": \"table\"}]}, \"layout\": {\"annotationdefaults\": {\"arrowcolor\": \"#2a3f5f\", \"arrowhead\": 0, \"arrowwidth\": 1}, \"autotypenumbers\": \"strict\", \"coloraxis\": {\"colorbar\": {\"outlinewidth\": 0, \"ticks\": \"\"}}, \"colorscale\": {\"diverging\": [[0, \"#8e0152\"], [0.1, \"#c51b7d\"], [0.2, \"#de77ae\"], [0.3, \"#f1b6da\"], [0.4, \"#fde0ef\"], [0.5, \"#f7f7f7\"], [0.6, \"#e6f5d0\"], [0.7, \"#b8e186\"], [0.8, \"#7fbc41\"], [0.9, \"#4d9221\"], [1, \"#276419\"]], \"sequential\": [[0.0, \"#0d0887\"], [0.1111111111111111, \"#46039f\"], [0.2222222222222222, \"#7201a8\"], [0.3333333333333333, \"#9c179e\"], [0.4444444444444444, \"#bd3786\"], [0.5555555555555556, \"#d8576b\"], [0.6666666666666666, \"#ed7953\"], [0.7777777777777778, \"#fb9f3a\"], [0.8888888888888888, \"#fdca26\"], [1.0, \"#f0f921\"]], \"sequentialminus\": [[0.0, \"#0d0887\"], [0.1111111111111111, \"#46039f\"], [0.2222222222222222, \"#7201a8\"], [0.3333333333333333, \"#9c179e\"], [0.4444444444444444, \"#bd3786\"], [0.5555555555555556, \"#d8576b\"], [0.6666666666666666, \"#ed7953\"], [0.7777777777777778, \"#fb9f3a\"], [0.8888888888888888, \"#fdca26\"], [1.0, \"#f0f921\"]]}, \"colorway\": [\"#636efa\", \"#EF553B\", \"#00cc96\", \"#ab63fa\", \"#FFA15A\", \"#19d3f3\", \"#FF6692\", \"#B6E880\", \"#FF97FF\", \"#FECB52\"], \"font\": {\"color\": \"#2a3f5f\"}, \"geo\": {\"bgcolor\": \"white\", \"lakecolor\": \"white\", \"landcolor\": \"#E5ECF6\", \"showlakes\": true, \"showland\": true, \"subunitcolor\": \"white\"}, \"hoverlabel\": {\"align\": \"left\"}, \"hovermode\": \"closest\", \"mapbox\": {\"style\": \"light\"}, \"paper_bgcolor\": \"white\", \"plot_bgcolor\": \"#E5ECF6\", \"polar\": {\"angularaxis\": {\"gridcolor\": \"white\", \"linecolor\": \"white\", \"ticks\": \"\"}, \"bgcolor\": \"#E5ECF6\", \"radialaxis\": {\"gridcolor\": \"white\", \"linecolor\": \"white\", \"ticks\": \"\"}}, \"scene\": {\"xaxis\": {\"backgroundcolor\": \"#E5ECF6\", \"gridcolor\": \"white\", \"gridwidth\": 2, \"linecolor\": \"white\", \"showbackground\": true, \"ticks\": \"\", \"zerolinecolor\": \"white\"}, \"yaxis\": {\"backgroundcolor\": \"#E5ECF6\", \"gridcolor\": \"white\", \"gridwidth\": 2, \"linecolor\": \"white\", \"showbackground\": true, \"ticks\": \"\", \"zerolinecolor\": \"white\"}, \"zaxis\": {\"backgroundcolor\": \"#E5ECF6\", \"gridcolor\": \"white\", \"gridwidth\": 2, \"linecolor\": \"white\", \"showbackground\": true, \"ticks\": \"\", \"zerolinecolor\": \"white\"}}, \"shapedefaults\": {\"line\": {\"color\": \"#2a3f5f\"}}, \"ternary\": {\"aaxis\": {\"gridcolor\": \"white\", \"linecolor\": \"white\", \"ticks\": \"\"}, \"baxis\": {\"gridcolor\": \"white\", \"linecolor\": \"white\", \"ticks\": \"\"}, \"bgcolor\": \"#E5ECF6\", \"caxis\": {\"gridcolor\": \"white\", \"linecolor\": \"white\", \"ticks\": \"\"}}, \"title\": {\"x\": 0.05}, \"xaxis\": {\"automargin\": true, \"gridcolor\": \"white\", \"linecolor\": \"white\", \"ticks\": \"\", \"title\": {\"standoff\": 15}, \"zerolinecolor\": \"white\", \"zerolinewidth\": 2}, \"yaxis\": {\"automargin\": true, \"gridcolor\": \"white\", \"linecolor\": \"white\", \"ticks\": \"\", \"title\": {\"standoff\": 15}, \"zerolinecolor\": \"white\", \"zerolinewidth\": 2}}}, \"width\": 800, \"xaxis\": {\"anchor\": \"y\", \"domain\": [0.0, 0.2125]}, \"xaxis2\": {\"anchor\": \"y2\", \"domain\": [0.2625, 0.475]}, \"xaxis3\": {\"anchor\": \"y3\", \"domain\": [0.525, 0.7375]}, \"xaxis4\": {\"anchor\": \"y4\", \"domain\": [0.7875, 1.0]}, \"xaxis5\": {\"anchor\": \"y5\", \"domain\": [0.0, 0.2125]}, \"xaxis6\": {\"anchor\": \"y6\", \"domain\": [0.2625, 0.475]}, \"xaxis7\": {\"anchor\": \"y7\", \"domain\": [0.525, 0.7375]}, \"xaxis8\": {\"anchor\": \"y8\", \"domain\": [0.7875, 1.0]}, \"yaxis\": {\"anchor\": \"x\", \"domain\": [0.575, 1.0]}, \"yaxis2\": {\"anchor\": \"x2\", \"domain\": [0.575, 1.0], \"matches\": \"y\", \"showticklabels\": false}, \"yaxis3\": {\"anchor\": \"x3\", \"domain\": [0.575, 1.0], \"matches\": \"y\", \"showticklabels\": false}, \"yaxis4\": {\"anchor\": \"x4\", \"domain\": [0.575, 1.0], \"matches\": \"y\", \"showticklabels\": false}, \"yaxis5\": {\"anchor\": \"x5\", \"domain\": [0.0, 0.425]}, \"yaxis6\": {\"anchor\": \"x6\", \"domain\": [0.0, 0.425], \"matches\": \"y5\", \"showticklabels\": false}, \"yaxis7\": {\"anchor\": \"x7\", \"domain\": [0.0, 0.425], \"matches\": \"y5\", \"showticklabels\": false}, \"yaxis8\": {\"anchor\": \"x8\", \"domain\": [0.0, 0.425], \"matches\": \"y5\", \"showticklabels\": false}},                        {\"responsive\": true}                    ).then(function(){\n",
       "                            \n",
       "var gd = document.getElementById('140faf17-1548-4e06-ba92-3b68595f4384');\n",
       "var x = new MutationObserver(function (mutations, observer) {{\n",
       "        var display = window.getComputedStyle(gd).display;\n",
       "        if (!display || display === 'none') {{\n",
       "            console.log([gd, 'removed!']);\n",
       "            Plotly.purge(gd);\n",
       "            observer.disconnect();\n",
       "        }}\n",
       "}});\n",
       "\n",
       "// Listen for the removal of the full notebook cells\n",
       "var notebookContainer = gd.closest('#notebook-container');\n",
       "if (notebookContainer) {{\n",
       "    x.observe(notebookContainer, {childList: true});\n",
       "}}\n",
       "\n",
       "// Listen for the clearing of the current output cell\n",
       "var outputEl = gd.closest('.output');\n",
       "if (outputEl) {{\n",
       "    x.observe(outputEl, {childList: true});\n",
       "}}\n",
       "\n",
       "                        })                };                });            </script>        </div>"
      ]
     },
     "metadata": {},
     "output_type": "display_data"
    }
   ],
   "source": [
    "figure = []\n",
    "figure.append(px.violin(tv_shows_both_ratings, x = 'Streaming On', y = 'IMDb', color='Streaming On'))\n",
    "figure.append(px.violin(tv_shows_both_ratings, x = 'Streaming On', y = 'Rotten Tomatoes', color='Streaming On'))\n",
    "fig = make_subplots(rows=2, cols=4, shared_yaxes=True)\n",
    "\n",
    "for i in range(2):\n",
    "    for j in range(4):\n",
    "        fig.add_trace(figure[i]['data'][j], row=i+1, col=j+1)\n",
    "\n",
    "fig.update_layout(autosize=False, width=800, height=800)        \n",
    "fig.show()"
   ]
  },
  {
   "cell_type": "code",
   "execution_count": 54,
   "metadata": {},
   "outputs": [
    {
     "data": {
      "application/vnd.plotly.v1+json": {
       "config": {
        "plotlyServerURL": "https://plot.ly"
       },
       "data": [
        {
         "hovertemplate": "Streaming On=Netflix<br>IMDb=%{x}<br>Rotten Tomatoes=%{y}<extra></extra>",
         "legendgroup": "Netflix",
         "marker": {
          "color": "#636efa",
          "symbol": "circle"
         },
         "mode": "markers",
         "name": "Netflix",
         "orientation": "v",
         "showlegend": true,
         "type": "scatter",
         "x": [
          88,
          84,
          87,
          89,
          88,
          84,
          82,
          84,
          88,
          86,
          83,
          88,
          84,
          86,
          82,
          87,
          80,
          77,
          84,
          82,
          76,
          81,
          87,
          77,
          87,
          76,
          87,
          80,
          82,
          81,
          84,
          81,
          74,
          84,
          76,
          85,
          78,
          86,
          80,
          80,
          79,
          85,
          84,
          81,
          88,
          82,
          83,
          82,
          93,
          78,
          76,
          79,
          77,
          81,
          79,
          80,
          83,
          80,
          78,
          83,
          73,
          77,
          82,
          68,
          81,
          71,
          74,
          78,
          82,
          78,
          78,
          85,
          83,
          73,
          77,
          84,
          75,
          81,
          81,
          73,
          84,
          72,
          83,
          73,
          79,
          80,
          85,
          75,
          79,
          78,
          77,
          72,
          84,
          82,
          75,
          85,
          77,
          81,
          81,
          77,
          74,
          81,
          82,
          77,
          84,
          79,
          67,
          68,
          73,
          65,
          80,
          75,
          83,
          78,
          71,
          70,
          73,
          73,
          75,
          74,
          76,
          72,
          75,
          70,
          77,
          77,
          74,
          61,
          85,
          75,
          60,
          74,
          66,
          66,
          76,
          74,
          79,
          80,
          64,
          71,
          64,
          79,
          79,
          76,
          76,
          62,
          76,
          71,
          61,
          72,
          74,
          65,
          63,
          74,
          74,
          65,
          61,
          75,
          64,
          82,
          72,
          70,
          59,
          74,
          67,
          74,
          66,
          73,
          73,
          70,
          65,
          76,
          72,
          65,
          70,
          67,
          66,
          73,
          60,
          63,
          58,
          38,
          68,
          65,
          71,
          70,
          77,
          69,
          36,
          61,
          64,
          52,
          57,
          23,
          58
         ],
         "xaxis": "x",
         "y": [
          93,
          91,
          97,
          81,
          83,
          93,
          81,
          81,
          89,
          93,
          67,
          89,
          91,
          85,
          97,
          93,
          91,
          89,
          91,
          87,
          83,
          93,
          75,
          85,
          89,
          97,
          93,
          97,
          91,
          91,
          93,
          71,
          81,
          97,
          85,
          87,
          91,
          89,
          95,
          83,
          77,
          63,
          99,
          93,
          75,
          93,
          87,
          93,
          93,
          77,
          85,
          87,
          85,
          85,
          91,
          83,
          89,
          93,
          39,
          85,
          75,
          93,
          99,
          87,
          93,
          75,
          67,
          99,
          97,
          89,
          85,
          87,
          95,
          87,
          57,
          97,
          89,
          97,
          69,
          89,
          89,
          83,
          89,
          95,
          85,
          67,
          91,
          71,
          97,
          77,
          57,
          77,
          95,
          91,
          63,
          91,
          81,
          67,
          81,
          65,
          93,
          89,
          27,
          81,
          45,
          93,
          71,
          81,
          77,
          37,
          65,
          93,
          97,
          97,
          83,
          85,
          97,
          57,
          57,
          65,
          91,
          75,
          77,
          51,
          77,
          63,
          75,
          95,
          93,
          61,
          73,
          33,
          51,
          11,
          95,
          77,
          93,
          95,
          83,
          77,
          75,
          75,
          83,
          39,
          95,
          95,
          67,
          71,
          55,
          77,
          73,
          47,
          81,
          97,
          89,
          75,
          33,
          91,
          73,
          95,
          35,
          75,
          35,
          93,
          77,
          79,
          79,
          83,
          33,
          73,
          41,
          63,
          79,
          37,
          75,
          19,
          67,
          67,
          63,
          67,
          77,
          71,
          33,
          57,
          83,
          71,
          43,
          67,
          75,
          41,
          37,
          81,
          17,
          31,
          41
         ],
         "yaxis": "y"
        },
        {
         "hovertemplate": "Streaming On=Hulu<br>IMDb=%{x}<br>Rotten Tomatoes=%{y}<extra></extra>",
         "legendgroup": "Hulu",
         "marker": {
          "color": "#EF553B",
          "symbol": "circle"
         },
         "mode": "markers",
         "name": "Hulu",
         "orientation": "v",
         "showlegend": true,
         "type": "scatter",
         "x": [
          86,
          88,
          82,
          76,
          87,
          81,
          74,
          86,
          79,
          78,
          66,
          60,
          85,
          84,
          87,
          83,
          90,
          87,
          83,
          84,
          86,
          84,
          86,
          86,
          83,
          86,
          87,
          81,
          82,
          83,
          79,
          86,
          88,
          77,
          80,
          86,
          82,
          80,
          80,
          85,
          78,
          75,
          78,
          78,
          83,
          84,
          81,
          88,
          77,
          76,
          81,
          75,
          74,
          80,
          78,
          73,
          82,
          70,
          77,
          80,
          84,
          81,
          81,
          76,
          77,
          69,
          80,
          82,
          74,
          79,
          74,
          83,
          80,
          83,
          73,
          72,
          76,
          65,
          71,
          67,
          78,
          74,
          83,
          80,
          73,
          69,
          71,
          79,
          80,
          76,
          82,
          75,
          78,
          79,
          77,
          68,
          84,
          79,
          67,
          79,
          71,
          77,
          75,
          78,
          74,
          73,
          75,
          70,
          75,
          73,
          73,
          77,
          67,
          76,
          70,
          81,
          72,
          69,
          73,
          75,
          77,
          76,
          70,
          70,
          74,
          67,
          74,
          70,
          53,
          73,
          71,
          76,
          62,
          62,
          75,
          74,
          81,
          79,
          77,
          62,
          74,
          56,
          67,
          67,
          59,
          62,
          49,
          69,
          77,
          41,
          59,
          76,
          64,
          62,
          72,
          70,
          57,
          79,
          66,
          70,
          67,
          56,
          57,
          74,
          43,
          63,
          66,
          64,
          73,
          42
         ],
         "xaxis": "x",
         "y": [
          93,
          89,
          97,
          83,
          75,
          71,
          81,
          89,
          87,
          77,
          51,
          63,
          93,
          97,
          85,
          85,
          85,
          81,
          83,
          95,
          87,
          97,
          91,
          97,
          83,
          75,
          97,
          91,
          85,
          91,
          95,
          97,
          83,
          81,
          93,
          97,
          69,
          87,
          65,
          83,
          69,
          91,
          81,
          99,
          85,
          99,
          87,
          97,
          91,
          87,
          95,
          83,
          95,
          87,
          91,
          79,
          81,
          87,
          77,
          89,
          87,
          91,
          89,
          85,
          97,
          73,
          97,
          89,
          79,
          89,
          77,
          89,
          81,
          97,
          89,
          57,
          75,
          97,
          91,
          87,
          83,
          61,
          95,
          97,
          85,
          89,
          75,
          75,
          67,
          65,
          91,
          79,
          81,
          53,
          93,
          61,
          95,
          93,
          77,
          75,
          83,
          75,
          75,
          95,
          87,
          77,
          93,
          75,
          59,
          85,
          73,
          97,
          91,
          73,
          67,
          67,
          67,
          73,
          41,
          77,
          67,
          73,
          95,
          39,
          91,
          67,
          51,
          65,
          89,
          77,
          43,
          83,
          59,
          59,
          81,
          43,
          83,
          81,
          83,
          73,
          33,
          89,
          9,
          39,
          77,
          47,
          43,
          11,
          93,
          17,
          33,
          67,
          81,
          93,
          83,
          79,
          93,
          73,
          89,
          67,
          23,
          67,
          67,
          85,
          25,
          9,
          21,
          25,
          83,
          67
         ],
         "yaxis": "y"
        },
        {
         "hovertemplate": "Streaming On=Prime Video<br>IMDb=%{x}<br>Rotten Tomatoes=%{y}<extra></extra>",
         "legendgroup": "Prime Video",
         "marker": {
          "color": "#00cc96",
          "symbol": "circle"
         },
         "mode": "markers",
         "name": "Prime Video",
         "orientation": "v",
         "showlegend": true,
         "type": "scatter",
         "x": [
          86,
          86,
          83,
          78,
          84,
          70,
          64,
          85,
          82,
          85,
          75,
          81,
          69,
          80,
          76,
          85,
          84,
          87,
          83,
          87,
          82,
          82,
          83,
          83,
          84,
          87,
          81,
          76,
          83,
          78,
          81,
          86,
          83,
          87,
          82,
          79,
          82,
          86,
          83,
          73,
          85,
          71,
          82,
          80,
          80,
          81,
          75,
          81,
          70,
          79,
          74,
          79,
          74,
          81,
          77,
          82,
          73,
          78,
          66,
          71,
          75,
          64,
          73,
          74,
          79,
          69,
          75,
          79,
          82,
          75,
          74,
          69,
          79,
          72,
          73,
          72,
          74,
          77,
          69,
          61,
          67,
          70,
          85,
          61,
          62,
          64,
          66,
          62,
          67,
          63,
          66,
          64,
          59,
          66,
          75,
          72,
          38,
          48,
          61
         ],
         "xaxis": "x",
         "y": [
          93,
          89,
          89,
          77,
          45,
          51,
          73,
          93,
          85,
          83,
          91,
          87,
          89,
          67,
          67,
          93,
          97,
          89,
          93,
          81,
          81,
          89,
          89,
          93,
          89,
          89,
          71,
          81,
          91,
          89,
          91,
          59,
          57,
          85,
          93,
          57,
          91,
          93,
          87,
          89,
          81,
          71,
          77,
          89,
          75,
          81,
          67,
          97,
          77,
          93,
          95,
          79,
          77,
          65,
          95,
          87,
          91,
          91,
          77,
          71,
          87,
          77,
          57,
          69,
          95,
          95,
          53,
          79,
          73,
          79,
          81,
          67,
          45,
          83,
          83,
          87,
          73,
          83,
          59,
          79,
          65,
          85,
          97,
          79,
          87,
          57,
          63,
          57,
          19,
          33,
          17,
          75,
          71,
          63,
          47,
          37,
          35,
          15,
          63
         ],
         "yaxis": "y"
        },
        {
         "hovertemplate": "Streaming On=Disney+<br>IMDb=%{x}<br>Rotten Tomatoes=%{y}<extra></extra>",
         "legendgroup": "Disney+",
         "marker": {
          "color": "#ab63fa",
          "symbol": "circle"
         },
         "mode": "markers",
         "name": "Disney+",
         "orientation": "v",
         "showlegend": true,
         "type": "scatter",
         "x": [
          87,
          70,
          87,
          82,
          84,
          88,
          73,
          80,
          80,
          50
         ],
         "xaxis": "x",
         "y": [
          85,
          87,
          93,
          93,
          85,
          83,
          79,
          67,
          83,
          11
         ],
         "yaxis": "y"
        }
       ],
       "layout": {
        "legend": {
         "title": {
          "text": "Streaming On"
         },
         "tracegroupgap": 0
        },
        "margin": {
         "t": 60
        },
        "template": {
         "data": {
          "bar": [
           {
            "error_x": {
             "color": "#2a3f5f"
            },
            "error_y": {
             "color": "#2a3f5f"
            },
            "marker": {
             "line": {
              "color": "#E5ECF6",
              "width": 0.5
             }
            },
            "type": "bar"
           }
          ],
          "barpolar": [
           {
            "marker": {
             "line": {
              "color": "#E5ECF6",
              "width": 0.5
             }
            },
            "type": "barpolar"
           }
          ],
          "carpet": [
           {
            "aaxis": {
             "endlinecolor": "#2a3f5f",
             "gridcolor": "white",
             "linecolor": "white",
             "minorgridcolor": "white",
             "startlinecolor": "#2a3f5f"
            },
            "baxis": {
             "endlinecolor": "#2a3f5f",
             "gridcolor": "white",
             "linecolor": "white",
             "minorgridcolor": "white",
             "startlinecolor": "#2a3f5f"
            },
            "type": "carpet"
           }
          ],
          "choropleth": [
           {
            "colorbar": {
             "outlinewidth": 0,
             "ticks": ""
            },
            "type": "choropleth"
           }
          ],
          "contour": [
           {
            "colorbar": {
             "outlinewidth": 0,
             "ticks": ""
            },
            "colorscale": [
             [
              0,
              "#0d0887"
             ],
             [
              0.1111111111111111,
              "#46039f"
             ],
             [
              0.2222222222222222,
              "#7201a8"
             ],
             [
              0.3333333333333333,
              "#9c179e"
             ],
             [
              0.4444444444444444,
              "#bd3786"
             ],
             [
              0.5555555555555556,
              "#d8576b"
             ],
             [
              0.6666666666666666,
              "#ed7953"
             ],
             [
              0.7777777777777778,
              "#fb9f3a"
             ],
             [
              0.8888888888888888,
              "#fdca26"
             ],
             [
              1,
              "#f0f921"
             ]
            ],
            "type": "contour"
           }
          ],
          "contourcarpet": [
           {
            "colorbar": {
             "outlinewidth": 0,
             "ticks": ""
            },
            "type": "contourcarpet"
           }
          ],
          "heatmap": [
           {
            "colorbar": {
             "outlinewidth": 0,
             "ticks": ""
            },
            "colorscale": [
             [
              0,
              "#0d0887"
             ],
             [
              0.1111111111111111,
              "#46039f"
             ],
             [
              0.2222222222222222,
              "#7201a8"
             ],
             [
              0.3333333333333333,
              "#9c179e"
             ],
             [
              0.4444444444444444,
              "#bd3786"
             ],
             [
              0.5555555555555556,
              "#d8576b"
             ],
             [
              0.6666666666666666,
              "#ed7953"
             ],
             [
              0.7777777777777778,
              "#fb9f3a"
             ],
             [
              0.8888888888888888,
              "#fdca26"
             ],
             [
              1,
              "#f0f921"
             ]
            ],
            "type": "heatmap"
           }
          ],
          "heatmapgl": [
           {
            "colorbar": {
             "outlinewidth": 0,
             "ticks": ""
            },
            "colorscale": [
             [
              0,
              "#0d0887"
             ],
             [
              0.1111111111111111,
              "#46039f"
             ],
             [
              0.2222222222222222,
              "#7201a8"
             ],
             [
              0.3333333333333333,
              "#9c179e"
             ],
             [
              0.4444444444444444,
              "#bd3786"
             ],
             [
              0.5555555555555556,
              "#d8576b"
             ],
             [
              0.6666666666666666,
              "#ed7953"
             ],
             [
              0.7777777777777778,
              "#fb9f3a"
             ],
             [
              0.8888888888888888,
              "#fdca26"
             ],
             [
              1,
              "#f0f921"
             ]
            ],
            "type": "heatmapgl"
           }
          ],
          "histogram": [
           {
            "marker": {
             "colorbar": {
              "outlinewidth": 0,
              "ticks": ""
             }
            },
            "type": "histogram"
           }
          ],
          "histogram2d": [
           {
            "colorbar": {
             "outlinewidth": 0,
             "ticks": ""
            },
            "colorscale": [
             [
              0,
              "#0d0887"
             ],
             [
              0.1111111111111111,
              "#46039f"
             ],
             [
              0.2222222222222222,
              "#7201a8"
             ],
             [
              0.3333333333333333,
              "#9c179e"
             ],
             [
              0.4444444444444444,
              "#bd3786"
             ],
             [
              0.5555555555555556,
              "#d8576b"
             ],
             [
              0.6666666666666666,
              "#ed7953"
             ],
             [
              0.7777777777777778,
              "#fb9f3a"
             ],
             [
              0.8888888888888888,
              "#fdca26"
             ],
             [
              1,
              "#f0f921"
             ]
            ],
            "type": "histogram2d"
           }
          ],
          "histogram2dcontour": [
           {
            "colorbar": {
             "outlinewidth": 0,
             "ticks": ""
            },
            "colorscale": [
             [
              0,
              "#0d0887"
             ],
             [
              0.1111111111111111,
              "#46039f"
             ],
             [
              0.2222222222222222,
              "#7201a8"
             ],
             [
              0.3333333333333333,
              "#9c179e"
             ],
             [
              0.4444444444444444,
              "#bd3786"
             ],
             [
              0.5555555555555556,
              "#d8576b"
             ],
             [
              0.6666666666666666,
              "#ed7953"
             ],
             [
              0.7777777777777778,
              "#fb9f3a"
             ],
             [
              0.8888888888888888,
              "#fdca26"
             ],
             [
              1,
              "#f0f921"
             ]
            ],
            "type": "histogram2dcontour"
           }
          ],
          "mesh3d": [
           {
            "colorbar": {
             "outlinewidth": 0,
             "ticks": ""
            },
            "type": "mesh3d"
           }
          ],
          "parcoords": [
           {
            "line": {
             "colorbar": {
              "outlinewidth": 0,
              "ticks": ""
             }
            },
            "type": "parcoords"
           }
          ],
          "pie": [
           {
            "automargin": true,
            "type": "pie"
           }
          ],
          "scatter": [
           {
            "marker": {
             "colorbar": {
              "outlinewidth": 0,
              "ticks": ""
             }
            },
            "type": "scatter"
           }
          ],
          "scatter3d": [
           {
            "line": {
             "colorbar": {
              "outlinewidth": 0,
              "ticks": ""
             }
            },
            "marker": {
             "colorbar": {
              "outlinewidth": 0,
              "ticks": ""
             }
            },
            "type": "scatter3d"
           }
          ],
          "scattercarpet": [
           {
            "marker": {
             "colorbar": {
              "outlinewidth": 0,
              "ticks": ""
             }
            },
            "type": "scattercarpet"
           }
          ],
          "scattergeo": [
           {
            "marker": {
             "colorbar": {
              "outlinewidth": 0,
              "ticks": ""
             }
            },
            "type": "scattergeo"
           }
          ],
          "scattergl": [
           {
            "marker": {
             "colorbar": {
              "outlinewidth": 0,
              "ticks": ""
             }
            },
            "type": "scattergl"
           }
          ],
          "scattermapbox": [
           {
            "marker": {
             "colorbar": {
              "outlinewidth": 0,
              "ticks": ""
             }
            },
            "type": "scattermapbox"
           }
          ],
          "scatterpolar": [
           {
            "marker": {
             "colorbar": {
              "outlinewidth": 0,
              "ticks": ""
             }
            },
            "type": "scatterpolar"
           }
          ],
          "scatterpolargl": [
           {
            "marker": {
             "colorbar": {
              "outlinewidth": 0,
              "ticks": ""
             }
            },
            "type": "scatterpolargl"
           }
          ],
          "scatterternary": [
           {
            "marker": {
             "colorbar": {
              "outlinewidth": 0,
              "ticks": ""
             }
            },
            "type": "scatterternary"
           }
          ],
          "surface": [
           {
            "colorbar": {
             "outlinewidth": 0,
             "ticks": ""
            },
            "colorscale": [
             [
              0,
              "#0d0887"
             ],
             [
              0.1111111111111111,
              "#46039f"
             ],
             [
              0.2222222222222222,
              "#7201a8"
             ],
             [
              0.3333333333333333,
              "#9c179e"
             ],
             [
              0.4444444444444444,
              "#bd3786"
             ],
             [
              0.5555555555555556,
              "#d8576b"
             ],
             [
              0.6666666666666666,
              "#ed7953"
             ],
             [
              0.7777777777777778,
              "#fb9f3a"
             ],
             [
              0.8888888888888888,
              "#fdca26"
             ],
             [
              1,
              "#f0f921"
             ]
            ],
            "type": "surface"
           }
          ],
          "table": [
           {
            "cells": {
             "fill": {
              "color": "#EBF0F8"
             },
             "line": {
              "color": "white"
             }
            },
            "header": {
             "fill": {
              "color": "#C8D4E3"
             },
             "line": {
              "color": "white"
             }
            },
            "type": "table"
           }
          ]
         },
         "layout": {
          "annotationdefaults": {
           "arrowcolor": "#2a3f5f",
           "arrowhead": 0,
           "arrowwidth": 1
          },
          "autotypenumbers": "strict",
          "coloraxis": {
           "colorbar": {
            "outlinewidth": 0,
            "ticks": ""
           }
          },
          "colorscale": {
           "diverging": [
            [
             0,
             "#8e0152"
            ],
            [
             0.1,
             "#c51b7d"
            ],
            [
             0.2,
             "#de77ae"
            ],
            [
             0.3,
             "#f1b6da"
            ],
            [
             0.4,
             "#fde0ef"
            ],
            [
             0.5,
             "#f7f7f7"
            ],
            [
             0.6,
             "#e6f5d0"
            ],
            [
             0.7,
             "#b8e186"
            ],
            [
             0.8,
             "#7fbc41"
            ],
            [
             0.9,
             "#4d9221"
            ],
            [
             1,
             "#276419"
            ]
           ],
           "sequential": [
            [
             0,
             "#0d0887"
            ],
            [
             0.1111111111111111,
             "#46039f"
            ],
            [
             0.2222222222222222,
             "#7201a8"
            ],
            [
             0.3333333333333333,
             "#9c179e"
            ],
            [
             0.4444444444444444,
             "#bd3786"
            ],
            [
             0.5555555555555556,
             "#d8576b"
            ],
            [
             0.6666666666666666,
             "#ed7953"
            ],
            [
             0.7777777777777778,
             "#fb9f3a"
            ],
            [
             0.8888888888888888,
             "#fdca26"
            ],
            [
             1,
             "#f0f921"
            ]
           ],
           "sequentialminus": [
            [
             0,
             "#0d0887"
            ],
            [
             0.1111111111111111,
             "#46039f"
            ],
            [
             0.2222222222222222,
             "#7201a8"
            ],
            [
             0.3333333333333333,
             "#9c179e"
            ],
            [
             0.4444444444444444,
             "#bd3786"
            ],
            [
             0.5555555555555556,
             "#d8576b"
            ],
            [
             0.6666666666666666,
             "#ed7953"
            ],
            [
             0.7777777777777778,
             "#fb9f3a"
            ],
            [
             0.8888888888888888,
             "#fdca26"
            ],
            [
             1,
             "#f0f921"
            ]
           ]
          },
          "colorway": [
           "#636efa",
           "#EF553B",
           "#00cc96",
           "#ab63fa",
           "#FFA15A",
           "#19d3f3",
           "#FF6692",
           "#B6E880",
           "#FF97FF",
           "#FECB52"
          ],
          "font": {
           "color": "#2a3f5f"
          },
          "geo": {
           "bgcolor": "white",
           "lakecolor": "white",
           "landcolor": "#E5ECF6",
           "showlakes": true,
           "showland": true,
           "subunitcolor": "white"
          },
          "hoverlabel": {
           "align": "left"
          },
          "hovermode": "closest",
          "mapbox": {
           "style": "light"
          },
          "paper_bgcolor": "white",
          "plot_bgcolor": "#E5ECF6",
          "polar": {
           "angularaxis": {
            "gridcolor": "white",
            "linecolor": "white",
            "ticks": ""
           },
           "bgcolor": "#E5ECF6",
           "radialaxis": {
            "gridcolor": "white",
            "linecolor": "white",
            "ticks": ""
           }
          },
          "scene": {
           "xaxis": {
            "backgroundcolor": "#E5ECF6",
            "gridcolor": "white",
            "gridwidth": 2,
            "linecolor": "white",
            "showbackground": true,
            "ticks": "",
            "zerolinecolor": "white"
           },
           "yaxis": {
            "backgroundcolor": "#E5ECF6",
            "gridcolor": "white",
            "gridwidth": 2,
            "linecolor": "white",
            "showbackground": true,
            "ticks": "",
            "zerolinecolor": "white"
           },
           "zaxis": {
            "backgroundcolor": "#E5ECF6",
            "gridcolor": "white",
            "gridwidth": 2,
            "linecolor": "white",
            "showbackground": true,
            "ticks": "",
            "zerolinecolor": "white"
           }
          },
          "shapedefaults": {
           "line": {
            "color": "#2a3f5f"
           }
          },
          "ternary": {
           "aaxis": {
            "gridcolor": "white",
            "linecolor": "white",
            "ticks": ""
           },
           "baxis": {
            "gridcolor": "white",
            "linecolor": "white",
            "ticks": ""
           },
           "bgcolor": "#E5ECF6",
           "caxis": {
            "gridcolor": "white",
            "linecolor": "white",
            "ticks": ""
           }
          },
          "title": {
           "x": 0.05
          },
          "xaxis": {
           "automargin": true,
           "gridcolor": "white",
           "linecolor": "white",
           "ticks": "",
           "title": {
            "standoff": 15
           },
           "zerolinecolor": "white",
           "zerolinewidth": 2
          },
          "yaxis": {
           "automargin": true,
           "gridcolor": "white",
           "linecolor": "white",
           "ticks": "",
           "title": {
            "standoff": 15
           },
           "zerolinecolor": "white",
           "zerolinewidth": 2
          }
         }
        },
        "xaxis": {
         "anchor": "y",
         "domain": [
          0,
          1
         ],
         "title": {
          "text": "IMDb"
         }
        },
        "yaxis": {
         "anchor": "x",
         "domain": [
          0,
          1
         ],
         "title": {
          "text": "Rotten Tomatoes"
         }
        }
       }
      },
      "text/html": [
       "<div>                            <div id=\"c51db0b7-c462-4974-9fc8-6f9e05355728\" class=\"plotly-graph-div\" style=\"height:525px; width:100%;\"></div>            <script type=\"text/javascript\">                require([\"plotly\"], function(Plotly) {                    window.PLOTLYENV=window.PLOTLYENV || {};                                    if (document.getElementById(\"c51db0b7-c462-4974-9fc8-6f9e05355728\")) {                    Plotly.newPlot(                        \"c51db0b7-c462-4974-9fc8-6f9e05355728\",                        [{\"hovertemplate\": \"Streaming On=Netflix<br>IMDb=%{x}<br>Rotten Tomatoes=%{y}<extra></extra>\", \"legendgroup\": \"Netflix\", \"marker\": {\"color\": \"#636efa\", \"symbol\": \"circle\"}, \"mode\": \"markers\", \"name\": \"Netflix\", \"orientation\": \"v\", \"showlegend\": true, \"type\": \"scatter\", \"x\": [88, 84, 87, 89, 88, 84, 82, 84, 88, 86, 83, 88, 84, 86, 82, 87, 80, 77, 84, 82, 76, 81, 87, 77, 87, 76, 87, 80, 82, 81, 84, 81, 74, 84, 76, 85, 78, 86, 80, 80, 79, 85, 84, 81, 88, 82, 83, 82, 93, 78, 76, 79, 77, 81, 79, 80, 83, 80, 78, 83, 73, 77, 82, 68, 81, 71, 74, 78, 82, 78, 78, 85, 83, 73, 77, 84, 75, 81, 81, 73, 84, 72, 83, 73, 79, 80, 85, 75, 79, 78, 77, 72, 84, 82, 75, 85, 77, 81, 81, 77, 74, 81, 82, 77, 84, 79, 67, 68, 73, 65, 80, 75, 83, 78, 71, 70, 73, 73, 75, 74, 76, 72, 75, 70, 77, 77, 74, 61, 85, 75, 60, 74, 66, 66, 76, 74, 79, 80, 64, 71, 64, 79, 79, 76, 76, 62, 76, 71, 61, 72, 74, 65, 63, 74, 74, 65, 61, 75, 64, 82, 72, 70, 59, 74, 67, 74, 66, 73, 73, 70, 65, 76, 72, 65, 70, 67, 66, 73, 60, 63, 58, 38, 68, 65, 71, 70, 77, 69, 36, 61, 64, 52, 57, 23, 58], \"xaxis\": \"x\", \"y\": [93, 91, 97, 81, 83, 93, 81, 81, 89, 93, 67, 89, 91, 85, 97, 93, 91, 89, 91, 87, 83, 93, 75, 85, 89, 97, 93, 97, 91, 91, 93, 71, 81, 97, 85, 87, 91, 89, 95, 83, 77, 63, 99, 93, 75, 93, 87, 93, 93, 77, 85, 87, 85, 85, 91, 83, 89, 93, 39, 85, 75, 93, 99, 87, 93, 75, 67, 99, 97, 89, 85, 87, 95, 87, 57, 97, 89, 97, 69, 89, 89, 83, 89, 95, 85, 67, 91, 71, 97, 77, 57, 77, 95, 91, 63, 91, 81, 67, 81, 65, 93, 89, 27, 81, 45, 93, 71, 81, 77, 37, 65, 93, 97, 97, 83, 85, 97, 57, 57, 65, 91, 75, 77, 51, 77, 63, 75, 95, 93, 61, 73, 33, 51, 11, 95, 77, 93, 95, 83, 77, 75, 75, 83, 39, 95, 95, 67, 71, 55, 77, 73, 47, 81, 97, 89, 75, 33, 91, 73, 95, 35, 75, 35, 93, 77, 79, 79, 83, 33, 73, 41, 63, 79, 37, 75, 19, 67, 67, 63, 67, 77, 71, 33, 57, 83, 71, 43, 67, 75, 41, 37, 81, 17, 31, 41], \"yaxis\": \"y\"}, {\"hovertemplate\": \"Streaming On=Hulu<br>IMDb=%{x}<br>Rotten Tomatoes=%{y}<extra></extra>\", \"legendgroup\": \"Hulu\", \"marker\": {\"color\": \"#EF553B\", \"symbol\": \"circle\"}, \"mode\": \"markers\", \"name\": \"Hulu\", \"orientation\": \"v\", \"showlegend\": true, \"type\": \"scatter\", \"x\": [86, 88, 82, 76, 87, 81, 74, 86, 79, 78, 66, 60, 85, 84, 87, 83, 90, 87, 83, 84, 86, 84, 86, 86, 83, 86, 87, 81, 82, 83, 79, 86, 88, 77, 80, 86, 82, 80, 80, 85, 78, 75, 78, 78, 83, 84, 81, 88, 77, 76, 81, 75, 74, 80, 78, 73, 82, 70, 77, 80, 84, 81, 81, 76, 77, 69, 80, 82, 74, 79, 74, 83, 80, 83, 73, 72, 76, 65, 71, 67, 78, 74, 83, 80, 73, 69, 71, 79, 80, 76, 82, 75, 78, 79, 77, 68, 84, 79, 67, 79, 71, 77, 75, 78, 74, 73, 75, 70, 75, 73, 73, 77, 67, 76, 70, 81, 72, 69, 73, 75, 77, 76, 70, 70, 74, 67, 74, 70, 53, 73, 71, 76, 62, 62, 75, 74, 81, 79, 77, 62, 74, 56, 67, 67, 59, 62, 49, 69, 77, 41, 59, 76, 64, 62, 72, 70, 57, 79, 66, 70, 67, 56, 57, 74, 43, 63, 66, 64, 73, 42], \"xaxis\": \"x\", \"y\": [93, 89, 97, 83, 75, 71, 81, 89, 87, 77, 51, 63, 93, 97, 85, 85, 85, 81, 83, 95, 87, 97, 91, 97, 83, 75, 97, 91, 85, 91, 95, 97, 83, 81, 93, 97, 69, 87, 65, 83, 69, 91, 81, 99, 85, 99, 87, 97, 91, 87, 95, 83, 95, 87, 91, 79, 81, 87, 77, 89, 87, 91, 89, 85, 97, 73, 97, 89, 79, 89, 77, 89, 81, 97, 89, 57, 75, 97, 91, 87, 83, 61, 95, 97, 85, 89, 75, 75, 67, 65, 91, 79, 81, 53, 93, 61, 95, 93, 77, 75, 83, 75, 75, 95, 87, 77, 93, 75, 59, 85, 73, 97, 91, 73, 67, 67, 67, 73, 41, 77, 67, 73, 95, 39, 91, 67, 51, 65, 89, 77, 43, 83, 59, 59, 81, 43, 83, 81, 83, 73, 33, 89, 9, 39, 77, 47, 43, 11, 93, 17, 33, 67, 81, 93, 83, 79, 93, 73, 89, 67, 23, 67, 67, 85, 25, 9, 21, 25, 83, 67], \"yaxis\": \"y\"}, {\"hovertemplate\": \"Streaming On=Prime Video<br>IMDb=%{x}<br>Rotten Tomatoes=%{y}<extra></extra>\", \"legendgroup\": \"Prime Video\", \"marker\": {\"color\": \"#00cc96\", \"symbol\": \"circle\"}, \"mode\": \"markers\", \"name\": \"Prime Video\", \"orientation\": \"v\", \"showlegend\": true, \"type\": \"scatter\", \"x\": [86, 86, 83, 78, 84, 70, 64, 85, 82, 85, 75, 81, 69, 80, 76, 85, 84, 87, 83, 87, 82, 82, 83, 83, 84, 87, 81, 76, 83, 78, 81, 86, 83, 87, 82, 79, 82, 86, 83, 73, 85, 71, 82, 80, 80, 81, 75, 81, 70, 79, 74, 79, 74, 81, 77, 82, 73, 78, 66, 71, 75, 64, 73, 74, 79, 69, 75, 79, 82, 75, 74, 69, 79, 72, 73, 72, 74, 77, 69, 61, 67, 70, 85, 61, 62, 64, 66, 62, 67, 63, 66, 64, 59, 66, 75, 72, 38, 48, 61], \"xaxis\": \"x\", \"y\": [93, 89, 89, 77, 45, 51, 73, 93, 85, 83, 91, 87, 89, 67, 67, 93, 97, 89, 93, 81, 81, 89, 89, 93, 89, 89, 71, 81, 91, 89, 91, 59, 57, 85, 93, 57, 91, 93, 87, 89, 81, 71, 77, 89, 75, 81, 67, 97, 77, 93, 95, 79, 77, 65, 95, 87, 91, 91, 77, 71, 87, 77, 57, 69, 95, 95, 53, 79, 73, 79, 81, 67, 45, 83, 83, 87, 73, 83, 59, 79, 65, 85, 97, 79, 87, 57, 63, 57, 19, 33, 17, 75, 71, 63, 47, 37, 35, 15, 63], \"yaxis\": \"y\"}, {\"hovertemplate\": \"Streaming On=Disney+<br>IMDb=%{x}<br>Rotten Tomatoes=%{y}<extra></extra>\", \"legendgroup\": \"Disney+\", \"marker\": {\"color\": \"#ab63fa\", \"symbol\": \"circle\"}, \"mode\": \"markers\", \"name\": \"Disney+\", \"orientation\": \"v\", \"showlegend\": true, \"type\": \"scatter\", \"x\": [87, 70, 87, 82, 84, 88, 73, 80, 80, 50], \"xaxis\": \"x\", \"y\": [85, 87, 93, 93, 85, 83, 79, 67, 83, 11], \"yaxis\": \"y\"}],                        {\"legend\": {\"title\": {\"text\": \"Streaming On\"}, \"tracegroupgap\": 0}, \"margin\": {\"t\": 60}, \"template\": {\"data\": {\"bar\": [{\"error_x\": {\"color\": \"#2a3f5f\"}, \"error_y\": {\"color\": \"#2a3f5f\"}, \"marker\": {\"line\": {\"color\": \"#E5ECF6\", \"width\": 0.5}}, \"type\": \"bar\"}], \"barpolar\": [{\"marker\": {\"line\": {\"color\": \"#E5ECF6\", \"width\": 0.5}}, \"type\": \"barpolar\"}], \"carpet\": [{\"aaxis\": {\"endlinecolor\": \"#2a3f5f\", \"gridcolor\": \"white\", \"linecolor\": \"white\", \"minorgridcolor\": \"white\", \"startlinecolor\": \"#2a3f5f\"}, \"baxis\": {\"endlinecolor\": \"#2a3f5f\", \"gridcolor\": \"white\", \"linecolor\": \"white\", \"minorgridcolor\": \"white\", \"startlinecolor\": \"#2a3f5f\"}, \"type\": \"carpet\"}], \"choropleth\": [{\"colorbar\": {\"outlinewidth\": 0, \"ticks\": \"\"}, \"type\": \"choropleth\"}], \"contour\": [{\"colorbar\": {\"outlinewidth\": 0, \"ticks\": \"\"}, \"colorscale\": [[0.0, \"#0d0887\"], [0.1111111111111111, \"#46039f\"], [0.2222222222222222, \"#7201a8\"], [0.3333333333333333, \"#9c179e\"], [0.4444444444444444, \"#bd3786\"], [0.5555555555555556, \"#d8576b\"], [0.6666666666666666, \"#ed7953\"], [0.7777777777777778, \"#fb9f3a\"], [0.8888888888888888, \"#fdca26\"], [1.0, \"#f0f921\"]], \"type\": \"contour\"}], \"contourcarpet\": [{\"colorbar\": {\"outlinewidth\": 0, \"ticks\": \"\"}, \"type\": \"contourcarpet\"}], \"heatmap\": [{\"colorbar\": {\"outlinewidth\": 0, \"ticks\": \"\"}, \"colorscale\": [[0.0, \"#0d0887\"], [0.1111111111111111, \"#46039f\"], [0.2222222222222222, \"#7201a8\"], [0.3333333333333333, \"#9c179e\"], [0.4444444444444444, \"#bd3786\"], [0.5555555555555556, \"#d8576b\"], [0.6666666666666666, \"#ed7953\"], [0.7777777777777778, \"#fb9f3a\"], [0.8888888888888888, \"#fdca26\"], [1.0, \"#f0f921\"]], \"type\": \"heatmap\"}], \"heatmapgl\": [{\"colorbar\": {\"outlinewidth\": 0, \"ticks\": \"\"}, \"colorscale\": [[0.0, \"#0d0887\"], [0.1111111111111111, \"#46039f\"], [0.2222222222222222, \"#7201a8\"], [0.3333333333333333, \"#9c179e\"], [0.4444444444444444, \"#bd3786\"], [0.5555555555555556, \"#d8576b\"], [0.6666666666666666, \"#ed7953\"], [0.7777777777777778, \"#fb9f3a\"], [0.8888888888888888, \"#fdca26\"], [1.0, \"#f0f921\"]], \"type\": \"heatmapgl\"}], \"histogram\": [{\"marker\": {\"colorbar\": {\"outlinewidth\": 0, \"ticks\": \"\"}}, \"type\": \"histogram\"}], \"histogram2d\": [{\"colorbar\": {\"outlinewidth\": 0, \"ticks\": \"\"}, \"colorscale\": [[0.0, \"#0d0887\"], [0.1111111111111111, \"#46039f\"], [0.2222222222222222, \"#7201a8\"], [0.3333333333333333, \"#9c179e\"], [0.4444444444444444, \"#bd3786\"], [0.5555555555555556, \"#d8576b\"], [0.6666666666666666, \"#ed7953\"], [0.7777777777777778, \"#fb9f3a\"], [0.8888888888888888, \"#fdca26\"], [1.0, \"#f0f921\"]], \"type\": \"histogram2d\"}], \"histogram2dcontour\": [{\"colorbar\": {\"outlinewidth\": 0, \"ticks\": \"\"}, \"colorscale\": [[0.0, \"#0d0887\"], [0.1111111111111111, \"#46039f\"], [0.2222222222222222, \"#7201a8\"], [0.3333333333333333, \"#9c179e\"], [0.4444444444444444, \"#bd3786\"], [0.5555555555555556, \"#d8576b\"], [0.6666666666666666, \"#ed7953\"], [0.7777777777777778, \"#fb9f3a\"], [0.8888888888888888, \"#fdca26\"], [1.0, \"#f0f921\"]], \"type\": \"histogram2dcontour\"}], \"mesh3d\": [{\"colorbar\": {\"outlinewidth\": 0, \"ticks\": \"\"}, \"type\": \"mesh3d\"}], \"parcoords\": [{\"line\": {\"colorbar\": {\"outlinewidth\": 0, \"ticks\": \"\"}}, \"type\": \"parcoords\"}], \"pie\": [{\"automargin\": true, \"type\": \"pie\"}], \"scatter\": [{\"marker\": {\"colorbar\": {\"outlinewidth\": 0, \"ticks\": \"\"}}, \"type\": \"scatter\"}], \"scatter3d\": [{\"line\": {\"colorbar\": {\"outlinewidth\": 0, \"ticks\": \"\"}}, \"marker\": {\"colorbar\": {\"outlinewidth\": 0, \"ticks\": \"\"}}, \"type\": \"scatter3d\"}], \"scattercarpet\": [{\"marker\": {\"colorbar\": {\"outlinewidth\": 0, \"ticks\": \"\"}}, \"type\": \"scattercarpet\"}], \"scattergeo\": [{\"marker\": {\"colorbar\": {\"outlinewidth\": 0, \"ticks\": \"\"}}, \"type\": \"scattergeo\"}], \"scattergl\": [{\"marker\": {\"colorbar\": {\"outlinewidth\": 0, \"ticks\": \"\"}}, \"type\": \"scattergl\"}], \"scattermapbox\": [{\"marker\": {\"colorbar\": {\"outlinewidth\": 0, \"ticks\": \"\"}}, \"type\": \"scattermapbox\"}], \"scatterpolar\": [{\"marker\": {\"colorbar\": {\"outlinewidth\": 0, \"ticks\": \"\"}}, \"type\": \"scatterpolar\"}], \"scatterpolargl\": [{\"marker\": {\"colorbar\": {\"outlinewidth\": 0, \"ticks\": \"\"}}, \"type\": \"scatterpolargl\"}], \"scatterternary\": [{\"marker\": {\"colorbar\": {\"outlinewidth\": 0, \"ticks\": \"\"}}, \"type\": \"scatterternary\"}], \"surface\": [{\"colorbar\": {\"outlinewidth\": 0, \"ticks\": \"\"}, \"colorscale\": [[0.0, \"#0d0887\"], [0.1111111111111111, \"#46039f\"], [0.2222222222222222, \"#7201a8\"], [0.3333333333333333, \"#9c179e\"], [0.4444444444444444, \"#bd3786\"], [0.5555555555555556, \"#d8576b\"], [0.6666666666666666, \"#ed7953\"], [0.7777777777777778, \"#fb9f3a\"], [0.8888888888888888, \"#fdca26\"], [1.0, \"#f0f921\"]], \"type\": \"surface\"}], \"table\": [{\"cells\": {\"fill\": {\"color\": \"#EBF0F8\"}, \"line\": {\"color\": \"white\"}}, \"header\": {\"fill\": {\"color\": \"#C8D4E3\"}, \"line\": {\"color\": \"white\"}}, \"type\": \"table\"}]}, \"layout\": {\"annotationdefaults\": {\"arrowcolor\": \"#2a3f5f\", \"arrowhead\": 0, \"arrowwidth\": 1}, \"autotypenumbers\": \"strict\", \"coloraxis\": {\"colorbar\": {\"outlinewidth\": 0, \"ticks\": \"\"}}, \"colorscale\": {\"diverging\": [[0, \"#8e0152\"], [0.1, \"#c51b7d\"], [0.2, \"#de77ae\"], [0.3, \"#f1b6da\"], [0.4, \"#fde0ef\"], [0.5, \"#f7f7f7\"], [0.6, \"#e6f5d0\"], [0.7, \"#b8e186\"], [0.8, \"#7fbc41\"], [0.9, \"#4d9221\"], [1, \"#276419\"]], \"sequential\": [[0.0, \"#0d0887\"], [0.1111111111111111, \"#46039f\"], [0.2222222222222222, \"#7201a8\"], [0.3333333333333333, \"#9c179e\"], [0.4444444444444444, \"#bd3786\"], [0.5555555555555556, \"#d8576b\"], [0.6666666666666666, \"#ed7953\"], [0.7777777777777778, \"#fb9f3a\"], [0.8888888888888888, \"#fdca26\"], [1.0, \"#f0f921\"]], \"sequentialminus\": [[0.0, \"#0d0887\"], [0.1111111111111111, \"#46039f\"], [0.2222222222222222, \"#7201a8\"], [0.3333333333333333, \"#9c179e\"], [0.4444444444444444, \"#bd3786\"], [0.5555555555555556, \"#d8576b\"], [0.6666666666666666, \"#ed7953\"], [0.7777777777777778, \"#fb9f3a\"], [0.8888888888888888, \"#fdca26\"], [1.0, \"#f0f921\"]]}, \"colorway\": [\"#636efa\", \"#EF553B\", \"#00cc96\", \"#ab63fa\", \"#FFA15A\", \"#19d3f3\", \"#FF6692\", \"#B6E880\", \"#FF97FF\", \"#FECB52\"], \"font\": {\"color\": \"#2a3f5f\"}, \"geo\": {\"bgcolor\": \"white\", \"lakecolor\": \"white\", \"landcolor\": \"#E5ECF6\", \"showlakes\": true, \"showland\": true, \"subunitcolor\": \"white\"}, \"hoverlabel\": {\"align\": \"left\"}, \"hovermode\": \"closest\", \"mapbox\": {\"style\": \"light\"}, \"paper_bgcolor\": \"white\", \"plot_bgcolor\": \"#E5ECF6\", \"polar\": {\"angularaxis\": {\"gridcolor\": \"white\", \"linecolor\": \"white\", \"ticks\": \"\"}, \"bgcolor\": \"#E5ECF6\", \"radialaxis\": {\"gridcolor\": \"white\", \"linecolor\": \"white\", \"ticks\": \"\"}}, \"scene\": {\"xaxis\": {\"backgroundcolor\": \"#E5ECF6\", \"gridcolor\": \"white\", \"gridwidth\": 2, \"linecolor\": \"white\", \"showbackground\": true, \"ticks\": \"\", \"zerolinecolor\": \"white\"}, \"yaxis\": {\"backgroundcolor\": \"#E5ECF6\", \"gridcolor\": \"white\", \"gridwidth\": 2, \"linecolor\": \"white\", \"showbackground\": true, \"ticks\": \"\", \"zerolinecolor\": \"white\"}, \"zaxis\": {\"backgroundcolor\": \"#E5ECF6\", \"gridcolor\": \"white\", \"gridwidth\": 2, \"linecolor\": \"white\", \"showbackground\": true, \"ticks\": \"\", \"zerolinecolor\": \"white\"}}, \"shapedefaults\": {\"line\": {\"color\": \"#2a3f5f\"}}, \"ternary\": {\"aaxis\": {\"gridcolor\": \"white\", \"linecolor\": \"white\", \"ticks\": \"\"}, \"baxis\": {\"gridcolor\": \"white\", \"linecolor\": \"white\", \"ticks\": \"\"}, \"bgcolor\": \"#E5ECF6\", \"caxis\": {\"gridcolor\": \"white\", \"linecolor\": \"white\", \"ticks\": \"\"}}, \"title\": {\"x\": 0.05}, \"xaxis\": {\"automargin\": true, \"gridcolor\": \"white\", \"linecolor\": \"white\", \"ticks\": \"\", \"title\": {\"standoff\": 15}, \"zerolinecolor\": \"white\", \"zerolinewidth\": 2}, \"yaxis\": {\"automargin\": true, \"gridcolor\": \"white\", \"linecolor\": \"white\", \"ticks\": \"\", \"title\": {\"standoff\": 15}, \"zerolinecolor\": \"white\", \"zerolinewidth\": 2}}}, \"xaxis\": {\"anchor\": \"y\", \"domain\": [0.0, 1.0], \"title\": {\"text\": \"IMDb\"}}, \"yaxis\": {\"anchor\": \"x\", \"domain\": [0.0, 1.0], \"title\": {\"text\": \"Rotten Tomatoes\"}}},                        {\"responsive\": true}                    ).then(function(){\n",
       "                            \n",
       "var gd = document.getElementById('c51db0b7-c462-4974-9fc8-6f9e05355728');\n",
       "var x = new MutationObserver(function (mutations, observer) {{\n",
       "        var display = window.getComputedStyle(gd).display;\n",
       "        if (!display || display === 'none') {{\n",
       "            console.log([gd, 'removed!']);\n",
       "            Plotly.purge(gd);\n",
       "            observer.disconnect();\n",
       "        }}\n",
       "}});\n",
       "\n",
       "// Listen for the removal of the full notebook cells\n",
       "var notebookContainer = gd.closest('#notebook-container');\n",
       "if (notebookContainer) {{\n",
       "    x.observe(notebookContainer, {childList: true});\n",
       "}}\n",
       "\n",
       "// Listen for the clearing of the current output cell\n",
       "var outputEl = gd.closest('.output');\n",
       "if (outputEl) {{\n",
       "    x.observe(outputEl, {childList: true});\n",
       "}}\n",
       "\n",
       "                        })                };                });            </script>        </div>"
      ]
     },
     "metadata": {},
     "output_type": "display_data"
    }
   ],
   "source": [
    "px.scatter(tv_shows_both_ratings, x='IMDb',y='Rotten Tomatoes',color='Streaming On')"
   ]
  },
  {
   "cell_type": "code",
   "execution_count": null,
   "metadata": {},
   "outputs": [],
   "source": []
  }
 ],
 "metadata": {
  "kernelspec": {
   "display_name": "Python 3",
   "language": "python",
   "name": "python3"
  },
  "language_info": {
   "codemirror_mode": {
    "name": "ipython",
    "version": 3
   },
   "file_extension": ".py",
   "mimetype": "text/x-python",
   "name": "python",
   "nbconvert_exporter": "python",
   "pygments_lexer": "ipython3",
   "version": "3.8.5"
  }
 },
 "nbformat": 4,
 "nbformat_minor": 4
}
